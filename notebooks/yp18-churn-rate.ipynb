{
 "cells": [
  {
   "cell_type": "markdown",
   "id": "7277ee99",
   "metadata": {},
   "source": [
    "# Прогноз оттока клиентов"
   ]
  },
  {
   "cell_type": "markdown",
   "id": "ac384eb9",
   "metadata": {},
   "source": [
    "## Введение"
   ]
  },
  {
   "cell_type": "markdown",
   "id": "6744179f",
   "metadata": {},
   "source": [
    "### Цель проекта"
   ]
  },
  {
   "cell_type": "markdown",
   "id": "12d7e6df",
   "metadata": {},
   "source": [
    "В проекте мы должны разработать модель прогнозирования оттока клиентов оператора связи на основе персональных данных клиентов, информациии об их тарифах и договорах. \n",
    "\n",
    "Критерием оценки качества модели должна быть метрика ROC-AUC. Значение метрики должно быть не менее 0.78."
   ]
  },
  {
   "cell_type": "markdown",
   "id": "b3ed1d02",
   "metadata": {},
   "source": [
    "### Основные этапы"
   ]
  },
  {
   "cell_type": "markdown",
   "id": "8e93564d",
   "metadata": {},
   "source": []
  },
  {
   "cell_type": "markdown",
   "id": "1139fd52",
   "metadata": {},
   "source": [
    "### Выводы"
   ]
  },
  {
   "cell_type": "markdown",
   "id": "81b9e6ff",
   "metadata": {},
   "source": []
  },
  {
   "cell_type": "markdown",
   "id": "72e0cf98",
   "metadata": {},
   "source": [
    "## Описание "
   ]
  },
  {
   "cell_type": "markdown",
   "id": "9cf70a6b",
   "metadata": {},
   "source": [
    "### Описание услуг"
   ]
  },
  {
   "cell_type": "markdown",
   "id": "e373642c",
   "metadata": {},
   "source": [
    "Оператор предоставляет два основных типа услуг: \n",
    "1. Стационарную телефонную связь. Возможно подключение телефонного аппарата к нескольким линиям одновременно.\n",
    "2. Интернет. Подключение может быть двух типов: через телефонную линию DSL (от англ. digital subscriber line — «цифровая абонентская линия») или оптоволоконный кабель (Fiber optic).\n",
    "\n",
    "Также доступны такие услуги:\n",
    "- Интернет-безопасность: антивирус (DeviceProtection) и блокировка небезопасных сайтов (OnlineSecurity);\n",
    "- Выделенная линия технической поддержки (TechSupport);\n",
    "- Облачное хранилище файлов для резервного копирования данных (OnlineBackup);\n",
    "- Стриминговое телевидение (StreamingTV) и каталог фильмов (StreamingMovies).\n",
    "\n",
    "За услуги клиенты могут платить каждый месяц или заключить договор на 1–2 года. Доступны различные способы расчёта и возможность получения электронного чека."
   ]
  },
  {
   "cell_type": "markdown",
   "id": "f4259939",
   "metadata": {},
   "source": [
    "### Описание данных"
   ]
  },
  {
   "cell_type": "markdown",
   "id": "b3bb692a",
   "metadata": {},
   "source": [
    "Данные хранятся в таблицах в базе данных PostgreSQL:\n",
    "1. `contract` — информация о договоре,\n",
    "1. `personal` — персональные данные клиента,\n",
    "1. `internet` — информация об интернет-услугах,\n",
    "1. `phone` — информация об услугах телефонии.\n",
    "\n",
    "Таблица `telecom.contract`\n",
    "1. `customerID` — ID пользователя,\n",
    "1. `BeginDate` — дата начала действия,\n",
    "1. `EndDate` — дата окончания действия,\n",
    "1. `Type` — тип оплаты (раз в год или помесячно),\n",
    "1. `PaperlessBilling` — безбумажный расчётный лист,\n",
    "1. `PaymentMethod` — тип платежа,\n",
    "1. `MonthlyCharges` — расход за месяц,\n",
    "1. `TotalCharges` — общие расходы.\n",
    "\n",
    "Таблица `personal`\n",
    "1. `customerID` — ID пользователя,\n",
    "1. `gender` — пол,\n",
    "1. `SeniorCitizen` — является ли абонент пенсионером,\n",
    "1. `Partner` — есть ли у абонента супруг/супруга,\n",
    "1. `Dependents` — есть ли у абонента дети.\n",
    "\n",
    "Таблица `telecom.internet`\n",
    "1. `customerID` — ID пользователя,\n",
    "1. `InternetService` — тип подключения,\n",
    "1. `OnlineSecurity` — блокировка небезопасных сайтов,\n",
    "1. `OnlineBackup` — облачное хранилище файлов для резервного копирования данных,\n",
    "1. `DeviceProtection` — антивирус,\n",
    "1. `TechSupport` — выделенная линия технической поддержки,\n",
    "1. `StreamingTV` — стриминговое телевидение,\n",
    "1. `StreamingMovies` — каталог фильмов.\n",
    "\n",
    "Таблица telecom.phone\n",
    "1. `customerID` — ID пользователя,\n",
    "1. `MultipleLines` — подключение телефонного аппарата к нескольким линиям одновременно.\n",
    "\n",
    "Информация о договорах актуальна на 1 февраля 2020."
   ]
  },
  {
   "cell_type": "markdown",
   "id": "0a751429",
   "metadata": {},
   "source": [
    "## Подготовка кода"
   ]
  },
  {
   "cell_type": "markdown",
   "id": "6ba8b671",
   "metadata": {},
   "source": [
    "### Загрузка библиотек"
   ]
  },
  {
   "cell_type": "code",
   "execution_count": 1,
   "id": "a7b12346",
   "metadata": {},
   "outputs": [],
   "source": [
    "import pandas as pd\n",
    "import numpy as np\n",
    "from sqlalchemy import create_engine, text\n",
    "\n",
    "from dotenv import load_dotenv\n",
    "from os import getenv"
   ]
  },
  {
   "cell_type": "code",
   "execution_count": 2,
   "id": "ff4362cf",
   "metadata": {},
   "outputs": [],
   "source": [
    "from matplotlib import pyplot as plt\n",
    "%matplotlib inline\n",
    "%config InlineBackend.figure_format='retina'"
   ]
  },
  {
   "cell_type": "code",
   "execution_count": 3,
   "id": "3ca67082",
   "metadata": {},
   "outputs": [],
   "source": [
    "from sklearn.model_selection import train_test_split\n",
    "from sklearn.tree import DecisionTreeClassifier\n",
    "from sklearn.ensemble import HistGradientBoostingClassifier\n",
    "from sklearn.metrics import roc_auc_score"
   ]
  },
  {
   "cell_type": "markdown",
   "id": "d9726308",
   "metadata": {},
   "source": [
    "### Константы"
   ]
  },
  {
   "cell_type": "code",
   "execution_count": 4,
   "id": "331fd952",
   "metadata": {},
   "outputs": [],
   "source": [
    "load_dotenv()\n",
    "DB_CONFIG = {k : getenv(f\"DB_{k.upper()}\") for k in ['user','pwd','host','port','db']}"
   ]
  },
  {
   "cell_type": "code",
   "execution_count": 5,
   "id": "8965dfdd",
   "metadata": {},
   "outputs": [],
   "source": [
    "RANDOM_SEED = 20230311"
   ]
  },
  {
   "cell_type": "markdown",
   "id": "58b8b88a",
   "metadata": {
    "heading_collapsed": true
   },
   "source": [
    "### Функции"
   ]
  },
  {
   "cell_type": "code",
   "execution_count": 6,
   "id": "cbf3d165",
   "metadata": {
    "hidden": true
   },
   "outputs": [],
   "source": [
    "class DataSource:\n",
    "    \"\"\"Provides database information  \n",
    "    \n",
    "    Stores info in self._table as dictionary:\n",
    "    - table_name:\n",
    "        - rows_number: int\n",
    "        - fields:\n",
    "            - field_name: \n",
    "                - uniques: int\n",
    "                - nans: int\n",
    "                - type: str\n",
    "             - ...\n",
    "    - ...\n",
    "               \n",
    "    \"\"\"\n",
    "    def __init__(self, user: str, pwd: str, host: str, port: int,\n",
    "                 db: str, schema: str = \"public\") -> None:\n",
    "        \"\"\"Creates DataSource instance and initialized connection to the source\"\"\"\n",
    "\n",
    "        self.schema = schema\n",
    "        self._tables = dict()\n",
    "        _connection_url = f\"postgresql://{user}:{pwd}@{host}:{port}/{db}\"\n",
    "        self._engine = create_engine(_connection_url)\n",
    "\n",
    "        # initialize database tables info\n",
    "        with self._engine.connect() as connection:        \n",
    "            self._init_tables_list(connection)\n",
    "            self._init_tables_info(connection)\n",
    "\n",
    "        \n",
    "    def _init_tables_list(self, connection) -> None:\n",
    "        \"\"\"Get table list from database schema\"\"\"\n",
    "\n",
    "        _query = f\"\"\"\n",
    "            SELECT table_name\n",
    "              FROM information_schema.tables\n",
    "             WHERE table_schema='{self.schema}'\n",
    "               AND table_type='BASE TABLE';        \n",
    "        \"\"\"\n",
    "        \n",
    "        for row in connection.execute(_query):\n",
    "                self._tables[row[\"table_name\"]] = {\n",
    "                    \"fields\": {},\n",
    "                    \"rows_number\": None\n",
    "                }\n",
    "\n",
    "    def _init_table_rows_number(self, table_name: str, connection) -> None:\n",
    "        \"\"\"Counts number of rows in table_name\"\"\"\n",
    "\n",
    "        _query = f\"\"\"\n",
    "            SELECT COUNT(*) as rows_number\n",
    "            FROM {self.schema}.{table_name}\n",
    "        \"\"\"\n",
    "        result = connection.execute(_query)\n",
    "        self._tables[table_name][\"rows_number\"] = [\n",
    "            _ for row in result for _ in row\n",
    "        ][0]\n",
    "\n",
    "            \n",
    "    def _init_table_fields_info(self, table_name: str, connection) -> None:\n",
    "        \"\"\"Get tables fields from database schema\"\"\"\n",
    "\n",
    "        _query = f\"\"\"\n",
    "            SELECT column_name, data_type \n",
    "            FROM information_schema.columns \n",
    "            WHERE table_name='{table_name}'        \n",
    "        \"\"\"\n",
    "        \n",
    "        for row in connection.execute(_query):\n",
    "            self._tables[table_name][\"fields\"][row[\"column_name\"]] = {\n",
    "                \"type\": row[\"data_type\"],\n",
    "                \"uniques\": 0,\n",
    "                \"nans\": 0\n",
    "            }\n",
    "\n",
    "    def _init_table_uniques(self, table_name: str, connection) -> None:\n",
    "        \"\"\"Counts unique values in table_name fields\"\"\"\n",
    "\n",
    "        _query = \"SELECT {} FROM {}\".format(\n",
    "            \", \".join([\n",
    "                f'COUNT(DISTINCT \"{_}\") as unique_{_.lower()}'\n",
    "                for _ in self._tables[table_name][\"fields\"].keys()\n",
    "            ]), f\"{self.schema}.{table_name}\")\n",
    "\n",
    "        for row in connection.execute(_query):\n",
    "            for field in self._tables[table_name][\"fields\"].keys():\n",
    "                row_key = f\"unique_{field.lower()}\"\n",
    "                self._tables[table_name][\"fields\"][field][\"uniques\"] = row[\n",
    "                    row_key.lower()]\n",
    "\n",
    "    def _init_table_nans(self, table_name: str, connection) -> None:\n",
    "        \"\"\"Counts number of NULL values in table_name fields\"\"\"\n",
    "        \n",
    "        for field in self._tables[table_name][\"fields\"].keys():\n",
    "            _query = f\"\"\"\n",
    "                SELECT COUNT(*) \n",
    "                FROM {self.schema}.{table_name} \n",
    "                WHERE \"{field}\" IS NULL        \n",
    "            \"\"\"\n",
    "            result = connection.execute(_query)\n",
    "            self._tables[table_name][\"fields\"][field][\"nans\"] = [\n",
    "                _ for row in result for _ in row\n",
    "            ][0]\n",
    "        \n",
    "\n",
    "    def _init_tables_info(self, connection) -> None:\n",
    "        \"\"\"Get tables info from database schema\"\"\"\n",
    "\n",
    "        for table_name in self.tables:\n",
    "            print(f\"Get info for {table_name}\")\n",
    "            print(\"... rows number\")\n",
    "            self._init_table_rows_number(table_name, connection)\n",
    "            print(\"... fields info\")\n",
    "            self._init_table_fields_info(table_name, connection)\n",
    "            print(\"... number of unique values\")\n",
    "            self._init_table_uniques(table_name, connection)\n",
    "            print(\"... number of nan values\")\n",
    "            self._init_table_nans(table_name, connection)\n",
    "            print(\"done\")\n",
    "\n",
    "    @property\n",
    "    def tables(self) -> list:\n",
    "        \"\"\"Returns list of tables in the database\"\"\"\n",
    "        return [*self._tables]\n",
    "\n",
    "    def exec_query(self, query: str) -> pd.DataFrame:\n",
    "        \"\"\"Executes SQL query and return DataFrame\"\"\"\n",
    "        return pd.read_sql_query(query, con=self._engine)\n",
    "\n",
    "    def table_head(self, table_name: str, number: int = 5) -> pd.DataFrame:\n",
    "        \"\"\"Returns first number of records in table_name\"\"\"\n",
    "        return self.exec_query(f\"SELECT * FROM {self.schema}.{table_name} LIMIT {number}\")\n",
    "\n",
    "    def table_info(self, table_name: str) -> None:\n",
    "        \"\"\"Prints table info\"\"\"\n",
    "\n",
    "        max_field_len = max(\n",
    "            [len(_) for _ in self._tables[table_name][\"fields\"].keys()])\n",
    "\n",
    "        max_type_len = max([\n",
    "            len(self._tables[table_name][\"fields\"][field][\"type\"])\n",
    "            for field in self._tables[table_name][\"fields\"].keys()\n",
    "        ])\n",
    "\n",
    "        rows_title = f\"Field{' '*(max_field_len - len('Field'))}\" + \\\n",
    "            \"     Uniques     NaNs\" + \\\n",
    "            \"  Type\" + (\" \"  * (max_type_len - len(\"Type\")))\n",
    "        print(f\"Table: {table_name}\")\n",
    "        print(f\"{self._tables[table_name]['rows_number']:,d} rows\")\n",
    "        print(\"-\" * len(rows_title))\n",
    "        print(rows_title)\n",
    "        print(\"-\" * len(rows_title))\n",
    "\n",
    "        for k, v in self._tables[table_name][\"fields\"].items():\n",
    "            print(f\"{k}{' '*(max_field_len - len(k))}  \" +\n",
    "                  f\"{v['uniques']:10,d} {v['nans']:8,d}  {v['type']}\")\n",
    "        print()"
   ]
  },
  {
   "cell_type": "code",
   "execution_count": null,
   "id": "0571080a",
   "metadata": {
    "hidden": true
   },
   "outputs": [],
   "source": []
  },
  {
   "cell_type": "markdown",
   "id": "ca947a4f",
   "metadata": {},
   "source": [
    "## Анализ данных на входе"
   ]
  },
  {
   "cell_type": "markdown",
   "id": "f34146a7",
   "metadata": {},
   "source": [
    "Создадим объект класса DataSource для получения метаданных о датасете."
   ]
  },
  {
   "cell_type": "code",
   "execution_count": 7,
   "id": "a1810930",
   "metadata": {
    "scrolled": false
   },
   "outputs": [
    {
     "name": "stdout",
     "output_type": "stream",
     "text": [
      "Get info for contract\n",
      "... rows number\n",
      "... fields info\n",
      "... number of unique values\n",
      "... number of nan values\n",
      "done\n",
      "Get info for internet\n",
      "... rows number\n",
      "... fields info\n",
      "... number of unique values\n",
      "... number of nan values\n",
      "done\n",
      "Get info for personal\n",
      "... rows number\n",
      "... fields info\n",
      "... number of unique values\n",
      "... number of nan values\n",
      "done\n",
      "Get info for phone\n",
      "... rows number\n",
      "... fields info\n",
      "... number of unique values\n",
      "... number of nan values\n",
      "done\n"
     ]
    }
   ],
   "source": [
    "ds = DataSource(**DB_CONFIG, schema=\"telecom\")"
   ]
  },
  {
   "cell_type": "code",
   "execution_count": 8,
   "id": "f44f80c3",
   "metadata": {},
   "outputs": [
    {
     "name": "stdout",
     "output_type": "stream",
     "text": [
      "Table: contract\n",
      "7,043 rows\n",
      "----------------------------------------------\n",
      "Field                Uniques     NaNs  Type   \n",
      "----------------------------------------------\n",
      "customerID             7,043        0  text\n",
      "BeginDate                515        0  date\n",
      "EndDate                    4    5,174  date\n",
      "Type                       3        0  text\n",
      "PaperlessBilling           2        0  text\n",
      "PaymentMethod              4        0  text\n",
      "MonthlyCharges         1,585        0  numeric\n",
      "TotalCharges           6,530       11  numeric\n",
      "\n",
      "Table: internet\n",
      "5,518 rows\n",
      "--------------------------------\n",
      "Field     Uniques     NaNs  Type\n",
      "--------------------------------\n",
      "c1       5,518        0  text\n",
      "c2           3        0  text\n",
      "c3           3        0  text\n",
      "c4           3        0  text\n",
      "c5           3        0  text\n",
      "c6           3        0  text\n",
      "c7           3        0  text\n",
      "c8           3        0  text\n",
      "\n",
      "Table: personal\n",
      "7,043 rows\n",
      "-------------------------------------------\n",
      "Field             Uniques     NaNs  Type   \n",
      "-------------------------------------------\n",
      "customerID          7,043        0  text\n",
      "gender                  2        0  text\n",
      "SeniorCitizen           2        0  integer\n",
      "Partner                 2        0  text\n",
      "Dependents              2        0  text\n",
      "\n",
      "Table: phone\n",
      "6,362 rows\n",
      "--------------------------------\n",
      "Field     Uniques     NaNs  Type\n",
      "--------------------------------\n",
      "c1       6,362        0  text\n",
      "c2           3        0  text\n",
      "\n"
     ]
    }
   ],
   "source": [
    "for table_name in ds.tables:\n",
    "    ds.table_info(table_name)"
   ]
  },
  {
   "cell_type": "markdown",
   "id": "3fc91b08",
   "metadata": {},
   "source": [
    "Количество таблиц и количество полей данных в них соответствует описанию. \n",
    "\n",
    "Названия столбцов в таблицах internet и phone не соответсвуют описанию и представлены номерами колонок.\n",
    "\n",
    "В таблицах `contract` и `personal` 7043 строки, столько же уникальных значений столбца `customerID`. \n",
    "\n",
    "Стобец `EndDate` таблицы `contract` содержит 5174 пропуска -- это количество действующих контрактов.\n",
    "\n",
    "Явные пропуски есть только в столбце `TotalCharges` таблицы `contract`, их всего 11.\n",
    "\n",
    "Количество строк в таблицах `internet` `phone` равно количеству уникальных значений `customerID`, значит связи 1:1.\n",
    "\n",
    "Посмотрим на примеры данных."
   ]
  },
  {
   "cell_type": "code",
   "execution_count": 9,
   "id": "778a6a21",
   "metadata": {},
   "outputs": [
    {
     "name": "stdout",
     "output_type": "stream",
     "text": [
      "contract\n"
     ]
    },
    {
     "data": {
      "text/html": [
       "<div>\n",
       "<style scoped>\n",
       "    .dataframe tbody tr th:only-of-type {\n",
       "        vertical-align: middle;\n",
       "    }\n",
       "\n",
       "    .dataframe tbody tr th {\n",
       "        vertical-align: top;\n",
       "    }\n",
       "\n",
       "    .dataframe thead th {\n",
       "        text-align: right;\n",
       "    }\n",
       "</style>\n",
       "<table border=\"1\" class=\"dataframe\">\n",
       "  <thead>\n",
       "    <tr style=\"text-align: right;\">\n",
       "      <th></th>\n",
       "      <th>customerID</th>\n",
       "      <th>BeginDate</th>\n",
       "      <th>EndDate</th>\n",
       "      <th>Type</th>\n",
       "      <th>PaperlessBilling</th>\n",
       "      <th>PaymentMethod</th>\n",
       "      <th>MonthlyCharges</th>\n",
       "      <th>TotalCharges</th>\n",
       "    </tr>\n",
       "  </thead>\n",
       "  <tbody>\n",
       "    <tr>\n",
       "      <th>0</th>\n",
       "      <td>4472-LVYGI</td>\n",
       "      <td>2020-02-01</td>\n",
       "      <td>None</td>\n",
       "      <td>Two year</td>\n",
       "      <td>Yes</td>\n",
       "      <td>Bank transfer (automatic)</td>\n",
       "      <td>52.55</td>\n",
       "      <td>NaN</td>\n",
       "    </tr>\n",
       "    <tr>\n",
       "      <th>1</th>\n",
       "      <td>3115-CZMZD</td>\n",
       "      <td>2020-02-01</td>\n",
       "      <td>None</td>\n",
       "      <td>Two year</td>\n",
       "      <td>No</td>\n",
       "      <td>Mailed check</td>\n",
       "      <td>20.25</td>\n",
       "      <td>NaN</td>\n",
       "    </tr>\n",
       "    <tr>\n",
       "      <th>2</th>\n",
       "      <td>3668-QPYBK</td>\n",
       "      <td>2018-08-09</td>\n",
       "      <td>2019-12-01</td>\n",
       "      <td>Month-to-month</td>\n",
       "      <td>Yes</td>\n",
       "      <td>Mailed check</td>\n",
       "      <td>53.85</td>\n",
       "      <td>108.15</td>\n",
       "    </tr>\n",
       "    <tr>\n",
       "      <th>3</th>\n",
       "      <td>5709-LVOEQ</td>\n",
       "      <td>2020-02-01</td>\n",
       "      <td>None</td>\n",
       "      <td>Two year</td>\n",
       "      <td>No</td>\n",
       "      <td>Mailed check</td>\n",
       "      <td>80.85</td>\n",
       "      <td>NaN</td>\n",
       "    </tr>\n",
       "    <tr>\n",
       "      <th>4</th>\n",
       "      <td>9237-HQITU</td>\n",
       "      <td>2019-01-26</td>\n",
       "      <td>2019-11-01</td>\n",
       "      <td>Month-to-month</td>\n",
       "      <td>Yes</td>\n",
       "      <td>Electronic check</td>\n",
       "      <td>70.70</td>\n",
       "      <td>151.65</td>\n",
       "    </tr>\n",
       "    <tr>\n",
       "      <th>5</th>\n",
       "      <td>9305-CDSKC</td>\n",
       "      <td>2018-12-26</td>\n",
       "      <td>2019-11-01</td>\n",
       "      <td>Month-to-month</td>\n",
       "      <td>Yes</td>\n",
       "      <td>Electronic check</td>\n",
       "      <td>99.65</td>\n",
       "      <td>820.50</td>\n",
       "    </tr>\n",
       "    <tr>\n",
       "      <th>6</th>\n",
       "      <td>4367-NUYAO</td>\n",
       "      <td>2020-02-01</td>\n",
       "      <td>None</td>\n",
       "      <td>Two year</td>\n",
       "      <td>No</td>\n",
       "      <td>Mailed check</td>\n",
       "      <td>25.75</td>\n",
       "      <td>NaN</td>\n",
       "    </tr>\n",
       "    <tr>\n",
       "      <th>7</th>\n",
       "      <td>1371-DWPAZ</td>\n",
       "      <td>2020-02-01</td>\n",
       "      <td>None</td>\n",
       "      <td>Two year</td>\n",
       "      <td>No</td>\n",
       "      <td>Credit card (automatic)</td>\n",
       "      <td>56.05</td>\n",
       "      <td>NaN</td>\n",
       "    </tr>\n",
       "    <tr>\n",
       "      <th>8</th>\n",
       "      <td>7892-POOKP</td>\n",
       "      <td>2019-04-27</td>\n",
       "      <td>2019-11-01</td>\n",
       "      <td>Month-to-month</td>\n",
       "      <td>Yes</td>\n",
       "      <td>Electronic check</td>\n",
       "      <td>104.80</td>\n",
       "      <td>3046.05</td>\n",
       "    </tr>\n",
       "    <tr>\n",
       "      <th>9</th>\n",
       "      <td>3213-VVOLG</td>\n",
       "      <td>2020-02-01</td>\n",
       "      <td>None</td>\n",
       "      <td>Two year</td>\n",
       "      <td>No</td>\n",
       "      <td>Mailed check</td>\n",
       "      <td>25.35</td>\n",
       "      <td>NaN</td>\n",
       "    </tr>\n",
       "  </tbody>\n",
       "</table>\n",
       "</div>"
      ],
      "text/plain": [
       "   customerID   BeginDate     EndDate            Type PaperlessBilling  \\\n",
       "0  4472-LVYGI  2020-02-01        None        Two year              Yes   \n",
       "1  3115-CZMZD  2020-02-01        None        Two year               No   \n",
       "2  3668-QPYBK  2018-08-09  2019-12-01  Month-to-month              Yes   \n",
       "3  5709-LVOEQ  2020-02-01        None        Two year               No   \n",
       "4  9237-HQITU  2019-01-26  2019-11-01  Month-to-month              Yes   \n",
       "5  9305-CDSKC  2018-12-26  2019-11-01  Month-to-month              Yes   \n",
       "6  4367-NUYAO  2020-02-01        None        Two year               No   \n",
       "7  1371-DWPAZ  2020-02-01        None        Two year               No   \n",
       "8  7892-POOKP  2019-04-27  2019-11-01  Month-to-month              Yes   \n",
       "9  3213-VVOLG  2020-02-01        None        Two year               No   \n",
       "\n",
       "               PaymentMethod  MonthlyCharges  TotalCharges  \n",
       "0  Bank transfer (automatic)           52.55           NaN  \n",
       "1               Mailed check           20.25           NaN  \n",
       "2               Mailed check           53.85        108.15  \n",
       "3               Mailed check           80.85           NaN  \n",
       "4           Electronic check           70.70        151.65  \n",
       "5           Electronic check           99.65        820.50  \n",
       "6               Mailed check           25.75           NaN  \n",
       "7    Credit card (automatic)           56.05           NaN  \n",
       "8           Electronic check          104.80       3046.05  \n",
       "9               Mailed check           25.35           NaN  "
      ]
     },
     "metadata": {},
     "output_type": "display_data"
    },
    {
     "name": "stdout",
     "output_type": "stream",
     "text": [
      "\n",
      "internet\n"
     ]
    },
    {
     "data": {
      "text/html": [
       "<div>\n",
       "<style scoped>\n",
       "    .dataframe tbody tr th:only-of-type {\n",
       "        vertical-align: middle;\n",
       "    }\n",
       "\n",
       "    .dataframe tbody tr th {\n",
       "        vertical-align: top;\n",
       "    }\n",
       "\n",
       "    .dataframe thead th {\n",
       "        text-align: right;\n",
       "    }\n",
       "</style>\n",
       "<table border=\"1\" class=\"dataframe\">\n",
       "  <thead>\n",
       "    <tr style=\"text-align: right;\">\n",
       "      <th></th>\n",
       "      <th>c1</th>\n",
       "      <th>c2</th>\n",
       "      <th>c3</th>\n",
       "      <th>c4</th>\n",
       "      <th>c5</th>\n",
       "      <th>c6</th>\n",
       "      <th>c7</th>\n",
       "      <th>c8</th>\n",
       "    </tr>\n",
       "  </thead>\n",
       "  <tbody>\n",
       "    <tr>\n",
       "      <th>0</th>\n",
       "      <td>customerID</td>\n",
       "      <td>InternetService</td>\n",
       "      <td>OnlineSecurity</td>\n",
       "      <td>OnlineBackup</td>\n",
       "      <td>DeviceProtection</td>\n",
       "      <td>TechSupport</td>\n",
       "      <td>StreamingTV</td>\n",
       "      <td>StreamingMovies</td>\n",
       "    </tr>\n",
       "    <tr>\n",
       "      <th>1</th>\n",
       "      <td>7590-VHVEG</td>\n",
       "      <td>DSL</td>\n",
       "      <td>No</td>\n",
       "      <td>Yes</td>\n",
       "      <td>No</td>\n",
       "      <td>No</td>\n",
       "      <td>No</td>\n",
       "      <td>No</td>\n",
       "    </tr>\n",
       "    <tr>\n",
       "      <th>2</th>\n",
       "      <td>5575-GNVDE</td>\n",
       "      <td>DSL</td>\n",
       "      <td>Yes</td>\n",
       "      <td>No</td>\n",
       "      <td>Yes</td>\n",
       "      <td>No</td>\n",
       "      <td>No</td>\n",
       "      <td>No</td>\n",
       "    </tr>\n",
       "    <tr>\n",
       "      <th>3</th>\n",
       "      <td>3668-QPYBK</td>\n",
       "      <td>DSL</td>\n",
       "      <td>Yes</td>\n",
       "      <td>Yes</td>\n",
       "      <td>No</td>\n",
       "      <td>No</td>\n",
       "      <td>No</td>\n",
       "      <td>No</td>\n",
       "    </tr>\n",
       "    <tr>\n",
       "      <th>4</th>\n",
       "      <td>7795-CFOCW</td>\n",
       "      <td>DSL</td>\n",
       "      <td>Yes</td>\n",
       "      <td>No</td>\n",
       "      <td>Yes</td>\n",
       "      <td>Yes</td>\n",
       "      <td>No</td>\n",
       "      <td>No</td>\n",
       "    </tr>\n",
       "    <tr>\n",
       "      <th>5</th>\n",
       "      <td>9237-HQITU</td>\n",
       "      <td>Fiber optic</td>\n",
       "      <td>No</td>\n",
       "      <td>No</td>\n",
       "      <td>No</td>\n",
       "      <td>No</td>\n",
       "      <td>No</td>\n",
       "      <td>No</td>\n",
       "    </tr>\n",
       "    <tr>\n",
       "      <th>6</th>\n",
       "      <td>9305-CDSKC</td>\n",
       "      <td>Fiber optic</td>\n",
       "      <td>No</td>\n",
       "      <td>No</td>\n",
       "      <td>Yes</td>\n",
       "      <td>No</td>\n",
       "      <td>Yes</td>\n",
       "      <td>Yes</td>\n",
       "    </tr>\n",
       "    <tr>\n",
       "      <th>7</th>\n",
       "      <td>1452-KIOVK</td>\n",
       "      <td>Fiber optic</td>\n",
       "      <td>No</td>\n",
       "      <td>Yes</td>\n",
       "      <td>No</td>\n",
       "      <td>No</td>\n",
       "      <td>Yes</td>\n",
       "      <td>No</td>\n",
       "    </tr>\n",
       "    <tr>\n",
       "      <th>8</th>\n",
       "      <td>6713-OKOMC</td>\n",
       "      <td>DSL</td>\n",
       "      <td>Yes</td>\n",
       "      <td>No</td>\n",
       "      <td>No</td>\n",
       "      <td>No</td>\n",
       "      <td>No</td>\n",
       "      <td>No</td>\n",
       "    </tr>\n",
       "    <tr>\n",
       "      <th>9</th>\n",
       "      <td>7892-POOKP</td>\n",
       "      <td>Fiber optic</td>\n",
       "      <td>No</td>\n",
       "      <td>No</td>\n",
       "      <td>Yes</td>\n",
       "      <td>Yes</td>\n",
       "      <td>Yes</td>\n",
       "      <td>Yes</td>\n",
       "    </tr>\n",
       "  </tbody>\n",
       "</table>\n",
       "</div>"
      ],
      "text/plain": [
       "           c1               c2              c3            c4  \\\n",
       "0  customerID  InternetService  OnlineSecurity  OnlineBackup   \n",
       "1  7590-VHVEG              DSL              No           Yes   \n",
       "2  5575-GNVDE              DSL             Yes            No   \n",
       "3  3668-QPYBK              DSL             Yes           Yes   \n",
       "4  7795-CFOCW              DSL             Yes            No   \n",
       "5  9237-HQITU      Fiber optic              No            No   \n",
       "6  9305-CDSKC      Fiber optic              No            No   \n",
       "7  1452-KIOVK      Fiber optic              No           Yes   \n",
       "8  6713-OKOMC              DSL             Yes            No   \n",
       "9  7892-POOKP      Fiber optic              No            No   \n",
       "\n",
       "                 c5           c6           c7               c8  \n",
       "0  DeviceProtection  TechSupport  StreamingTV  StreamingMovies  \n",
       "1                No           No           No               No  \n",
       "2               Yes           No           No               No  \n",
       "3                No           No           No               No  \n",
       "4               Yes          Yes           No               No  \n",
       "5                No           No           No               No  \n",
       "6               Yes           No          Yes              Yes  \n",
       "7                No           No          Yes               No  \n",
       "8                No           No           No               No  \n",
       "9               Yes          Yes          Yes              Yes  "
      ]
     },
     "metadata": {},
     "output_type": "display_data"
    },
    {
     "name": "stdout",
     "output_type": "stream",
     "text": [
      "\n",
      "personal\n"
     ]
    },
    {
     "data": {
      "text/html": [
       "<div>\n",
       "<style scoped>\n",
       "    .dataframe tbody tr th:only-of-type {\n",
       "        vertical-align: middle;\n",
       "    }\n",
       "\n",
       "    .dataframe tbody tr th {\n",
       "        vertical-align: top;\n",
       "    }\n",
       "\n",
       "    .dataframe thead th {\n",
       "        text-align: right;\n",
       "    }\n",
       "</style>\n",
       "<table border=\"1\" class=\"dataframe\">\n",
       "  <thead>\n",
       "    <tr style=\"text-align: right;\">\n",
       "      <th></th>\n",
       "      <th>customerID</th>\n",
       "      <th>gender</th>\n",
       "      <th>SeniorCitizen</th>\n",
       "      <th>Partner</th>\n",
       "      <th>Dependents</th>\n",
       "    </tr>\n",
       "  </thead>\n",
       "  <tbody>\n",
       "    <tr>\n",
       "      <th>0</th>\n",
       "      <td>7590-VHVEG</td>\n",
       "      <td>Female</td>\n",
       "      <td>0</td>\n",
       "      <td>Yes</td>\n",
       "      <td>No</td>\n",
       "    </tr>\n",
       "    <tr>\n",
       "      <th>1</th>\n",
       "      <td>5575-GNVDE</td>\n",
       "      <td>Male</td>\n",
       "      <td>0</td>\n",
       "      <td>No</td>\n",
       "      <td>No</td>\n",
       "    </tr>\n",
       "    <tr>\n",
       "      <th>2</th>\n",
       "      <td>3668-QPYBK</td>\n",
       "      <td>Male</td>\n",
       "      <td>0</td>\n",
       "      <td>No</td>\n",
       "      <td>No</td>\n",
       "    </tr>\n",
       "    <tr>\n",
       "      <th>3</th>\n",
       "      <td>7795-CFOCW</td>\n",
       "      <td>Male</td>\n",
       "      <td>0</td>\n",
       "      <td>No</td>\n",
       "      <td>No</td>\n",
       "    </tr>\n",
       "    <tr>\n",
       "      <th>4</th>\n",
       "      <td>9237-HQITU</td>\n",
       "      <td>Female</td>\n",
       "      <td>0</td>\n",
       "      <td>No</td>\n",
       "      <td>No</td>\n",
       "    </tr>\n",
       "    <tr>\n",
       "      <th>5</th>\n",
       "      <td>9305-CDSKC</td>\n",
       "      <td>Female</td>\n",
       "      <td>0</td>\n",
       "      <td>No</td>\n",
       "      <td>No</td>\n",
       "    </tr>\n",
       "    <tr>\n",
       "      <th>6</th>\n",
       "      <td>1452-KIOVK</td>\n",
       "      <td>Male</td>\n",
       "      <td>0</td>\n",
       "      <td>No</td>\n",
       "      <td>Yes</td>\n",
       "    </tr>\n",
       "    <tr>\n",
       "      <th>7</th>\n",
       "      <td>6713-OKOMC</td>\n",
       "      <td>Female</td>\n",
       "      <td>0</td>\n",
       "      <td>No</td>\n",
       "      <td>No</td>\n",
       "    </tr>\n",
       "    <tr>\n",
       "      <th>8</th>\n",
       "      <td>7892-POOKP</td>\n",
       "      <td>Female</td>\n",
       "      <td>0</td>\n",
       "      <td>Yes</td>\n",
       "      <td>No</td>\n",
       "    </tr>\n",
       "    <tr>\n",
       "      <th>9</th>\n",
       "      <td>6388-TABGU</td>\n",
       "      <td>Male</td>\n",
       "      <td>0</td>\n",
       "      <td>No</td>\n",
       "      <td>Yes</td>\n",
       "    </tr>\n",
       "  </tbody>\n",
       "</table>\n",
       "</div>"
      ],
      "text/plain": [
       "   customerID  gender  SeniorCitizen Partner Dependents\n",
       "0  7590-VHVEG  Female              0     Yes         No\n",
       "1  5575-GNVDE    Male              0      No         No\n",
       "2  3668-QPYBK    Male              0      No         No\n",
       "3  7795-CFOCW    Male              0      No         No\n",
       "4  9237-HQITU  Female              0      No         No\n",
       "5  9305-CDSKC  Female              0      No         No\n",
       "6  1452-KIOVK    Male              0      No        Yes\n",
       "7  6713-OKOMC  Female              0      No         No\n",
       "8  7892-POOKP  Female              0     Yes         No\n",
       "9  6388-TABGU    Male              0      No        Yes"
      ]
     },
     "metadata": {},
     "output_type": "display_data"
    },
    {
     "name": "stdout",
     "output_type": "stream",
     "text": [
      "\n",
      "phone\n"
     ]
    },
    {
     "data": {
      "text/html": [
       "<div>\n",
       "<style scoped>\n",
       "    .dataframe tbody tr th:only-of-type {\n",
       "        vertical-align: middle;\n",
       "    }\n",
       "\n",
       "    .dataframe tbody tr th {\n",
       "        vertical-align: top;\n",
       "    }\n",
       "\n",
       "    .dataframe thead th {\n",
       "        text-align: right;\n",
       "    }\n",
       "</style>\n",
       "<table border=\"1\" class=\"dataframe\">\n",
       "  <thead>\n",
       "    <tr style=\"text-align: right;\">\n",
       "      <th></th>\n",
       "      <th>c1</th>\n",
       "      <th>c2</th>\n",
       "    </tr>\n",
       "  </thead>\n",
       "  <tbody>\n",
       "    <tr>\n",
       "      <th>0</th>\n",
       "      <td>customerID</td>\n",
       "      <td>MultipleLines</td>\n",
       "    </tr>\n",
       "    <tr>\n",
       "      <th>1</th>\n",
       "      <td>5575-GNVDE</td>\n",
       "      <td>No</td>\n",
       "    </tr>\n",
       "    <tr>\n",
       "      <th>2</th>\n",
       "      <td>3668-QPYBK</td>\n",
       "      <td>No</td>\n",
       "    </tr>\n",
       "    <tr>\n",
       "      <th>3</th>\n",
       "      <td>9237-HQITU</td>\n",
       "      <td>No</td>\n",
       "    </tr>\n",
       "    <tr>\n",
       "      <th>4</th>\n",
       "      <td>9305-CDSKC</td>\n",
       "      <td>Yes</td>\n",
       "    </tr>\n",
       "    <tr>\n",
       "      <th>5</th>\n",
       "      <td>1452-KIOVK</td>\n",
       "      <td>Yes</td>\n",
       "    </tr>\n",
       "    <tr>\n",
       "      <th>6</th>\n",
       "      <td>7892-POOKP</td>\n",
       "      <td>Yes</td>\n",
       "    </tr>\n",
       "    <tr>\n",
       "      <th>7</th>\n",
       "      <td>6388-TABGU</td>\n",
       "      <td>No</td>\n",
       "    </tr>\n",
       "    <tr>\n",
       "      <th>8</th>\n",
       "      <td>9763-GRSKD</td>\n",
       "      <td>No</td>\n",
       "    </tr>\n",
       "    <tr>\n",
       "      <th>9</th>\n",
       "      <td>7469-LKBCI</td>\n",
       "      <td>No</td>\n",
       "    </tr>\n",
       "  </tbody>\n",
       "</table>\n",
       "</div>"
      ],
      "text/plain": [
       "           c1             c2\n",
       "0  customerID  MultipleLines\n",
       "1  5575-GNVDE             No\n",
       "2  3668-QPYBK             No\n",
       "3  9237-HQITU             No\n",
       "4  9305-CDSKC            Yes\n",
       "5  1452-KIOVK            Yes\n",
       "6  7892-POOKP            Yes\n",
       "7  6388-TABGU             No\n",
       "8  9763-GRSKD             No\n",
       "9  7469-LKBCI             No"
      ]
     },
     "metadata": {},
     "output_type": "display_data"
    },
    {
     "name": "stdout",
     "output_type": "stream",
     "text": [
      "\n"
     ]
    }
   ],
   "source": [
    "for table_name in ds.tables:\n",
    "    _sample = ds.table_head(table_name, 10)\n",
    "    print(table_name)\n",
    "    display(_sample)\n",
    "    print()"
   ]
  },
  {
   "cell_type": "markdown",
   "id": "91c12a7e",
   "metadata": {},
   "source": [
    "Пропуски в столбце `TotalCharges` таблицы `contract` видим для контарктов, дата начала которых равна последнему месяцу сбора данных. Предположим, что пропуск говорит о том, что эта сумма не рассчитана из-за короткого срока действия контракта. Пропуски можно заполнить значением `MonthlyCharges`.\n",
    "\n",
    "Названия столбцов таблиц `internet` и `phone` видим в первой строке данных.\n",
    "\n",
    "Других аномалий не наблюдаем."
   ]
  },
  {
   "cell_type": "markdown",
   "id": "c00c146b",
   "metadata": {},
   "source": [
    "### Вывод"
   ]
  },
  {
   "cell_type": "markdown",
   "id": "6ef444b1",
   "metadata": {},
   "source": [
    "- Все таблицы имеют набор данных.\n",
    "- Количество таблиц соответствет условию задачи.\n",
    "- Имеется общий ключ для связи таблиц.\n",
    "- Названия столбцов таблиц internet и phone видим в первой строке данных.\n",
    "- Явные пропуски есть только в `EndDate` таблицы `contract` -- говорит о действующем контакте, и  `TotalCharges` таблицы `contract` -- говорит, что контракт только заключен.\n"
   ]
  },
  {
   "cell_type": "markdown",
   "id": "906ed4cd",
   "metadata": {},
   "source": [
    "## Загрузка данных"
   ]
  },
  {
   "cell_type": "markdown",
   "id": "675c6660",
   "metadata": {},
   "source": [
    "Датасет содержит около 10 тыс записей. Связи между таблицами 1:1. Это небольшой объем, будет удобно загрузить все данные одной таблицей в датафрейм пандас."
   ]
  },
  {
   "cell_type": "code",
   "execution_count": 10,
   "id": "5ae9eb08",
   "metadata": {},
   "outputs": [
    {
     "data": {
      "text/plain": [
       "(7043, 20)"
      ]
     },
     "execution_count": 10,
     "metadata": {},
     "output_type": "execute_result"
    }
   ],
   "source": [
    "query = \"\"\"\n",
    "SELECT \n",
    "    c.\"customerID\"  AS customer_id,\n",
    "    c.\"BeginDate\" AS begin_date,\n",
    "    c.\"EndDate\" AS end_date,\n",
    "    c.\"Type\" AS contract_type,\n",
    "    c.\"PaperlessBilling\"  AS is_paperless_billing,\n",
    "    c.\"PaymentMethod\" AS payment_method,\n",
    "    c.\"MonthlyCharges\" AS monthly_charges,\n",
    "    c.\"TotalCharges\" AS total_charges,\n",
    "    p.gender AS customer_gender,\n",
    "    p.\"SeniorCitizen\" AS is_customer_senior,\n",
    "    p.\"Partner\" AS has_partner,\n",
    "    p.\"Dependents\" AS has_dependents,\n",
    "    phone.c2 AS has_multiple_lines_phone,\n",
    "    i.c2 AS internet_type,\n",
    "    i.c3 AS has_online_security,\n",
    "    i.c4 AS has_online_backup,\n",
    "    i.c5 AS has_device_protection,\n",
    "    i.c6 AS has_tech_support,\n",
    "    i.c7 AS has_streaming_tv,\n",
    "    i.c8 AS has_streaming_movies\n",
    "FROM telecom.contract c \n",
    "LEFT JOIN telecom.personal p ON c.\"customerID\" = p.\"customerID\" \n",
    "LEFT JOIN telecom.phone phone ON c.\"customerID\" = phone.c1\n",
    "LEFT JOIN telecom.internet i ON c.\"customerID\" = i.c1 ;\n",
    "\"\"\"\n",
    "\n",
    "df = ds.exec_query(query)\n",
    "df.shape"
   ]
  },
  {
   "cell_type": "markdown",
   "id": "5671b32a",
   "metadata": {},
   "source": [
    "7043 контактов и информация, связанная с ними, поулчены."
   ]
  },
  {
   "cell_type": "code",
   "execution_count": 11,
   "id": "c8d49f4a",
   "metadata": {},
   "outputs": [
    {
     "name": "stdout",
     "output_type": "stream",
     "text": [
      "<class 'pandas.core.frame.DataFrame'>\n",
      "RangeIndex: 7043 entries, 0 to 7042\n",
      "Data columns (total 20 columns):\n",
      " #   Column                    Non-Null Count  Dtype  \n",
      "---  ------                    --------------  -----  \n",
      " 0   customer_id               7043 non-null   object \n",
      " 1   begin_date                7043 non-null   object \n",
      " 2   end_date                  1869 non-null   object \n",
      " 3   contract_type             7043 non-null   object \n",
      " 4   is_paperless_billing      7043 non-null   object \n",
      " 5   payment_method            7043 non-null   object \n",
      " 6   monthly_charges           7043 non-null   float64\n",
      " 7   total_charges             7032 non-null   float64\n",
      " 8   customer_gender           7043 non-null   object \n",
      " 9   is_customer_senior        7043 non-null   int64  \n",
      " 10  has_partner               7043 non-null   object \n",
      " 11  has_dependents            7043 non-null   object \n",
      " 12  has_multiple_lines_phone  6361 non-null   object \n",
      " 13  internet_type             5517 non-null   object \n",
      " 14  has_online_security       5517 non-null   object \n",
      " 15  has_online_backup         5517 non-null   object \n",
      " 16  has_device_protection     5517 non-null   object \n",
      " 17  has_tech_support          5517 non-null   object \n",
      " 18  has_streaming_tv          5517 non-null   object \n",
      " 19  has_streaming_movies      5517 non-null   object \n",
      "dtypes: float64(2), int64(1), object(17)\n",
      "memory usage: 1.1+ MB\n"
     ]
    }
   ],
   "source": [
    "df.info()"
   ]
  },
  {
   "cell_type": "markdown",
   "id": "2f43f986",
   "metadata": {},
   "source": [
    "Все данные из `internet` и `phone`, кроме первой строки с названиями колонок, на месте."
   ]
  },
  {
   "cell_type": "code",
   "execution_count": 12,
   "id": "3d424f07",
   "metadata": {},
   "outputs": [
    {
     "data": {
      "text/html": [
       "<div>\n",
       "<style scoped>\n",
       "    .dataframe tbody tr th:only-of-type {\n",
       "        vertical-align: middle;\n",
       "    }\n",
       "\n",
       "    .dataframe tbody tr th {\n",
       "        vertical-align: top;\n",
       "    }\n",
       "\n",
       "    .dataframe thead th {\n",
       "        text-align: right;\n",
       "    }\n",
       "</style>\n",
       "<table border=\"1\" class=\"dataframe\">\n",
       "  <thead>\n",
       "    <tr style=\"text-align: right;\">\n",
       "      <th></th>\n",
       "      <th>0</th>\n",
       "      <th>1</th>\n",
       "      <th>2</th>\n",
       "      <th>3</th>\n",
       "      <th>4</th>\n",
       "    </tr>\n",
       "  </thead>\n",
       "  <tbody>\n",
       "    <tr>\n",
       "      <th>customer_id</th>\n",
       "      <td>4472-LVYGI</td>\n",
       "      <td>3115-CZMZD</td>\n",
       "      <td>3668-QPYBK</td>\n",
       "      <td>5709-LVOEQ</td>\n",
       "      <td>9237-HQITU</td>\n",
       "    </tr>\n",
       "    <tr>\n",
       "      <th>begin_date</th>\n",
       "      <td>2020-02-01</td>\n",
       "      <td>2020-02-01</td>\n",
       "      <td>2018-08-09</td>\n",
       "      <td>2020-02-01</td>\n",
       "      <td>2019-01-26</td>\n",
       "    </tr>\n",
       "    <tr>\n",
       "      <th>end_date</th>\n",
       "      <td>None</td>\n",
       "      <td>None</td>\n",
       "      <td>2019-12-01</td>\n",
       "      <td>None</td>\n",
       "      <td>2019-11-01</td>\n",
       "    </tr>\n",
       "    <tr>\n",
       "      <th>contract_type</th>\n",
       "      <td>Two year</td>\n",
       "      <td>Two year</td>\n",
       "      <td>Month-to-month</td>\n",
       "      <td>Two year</td>\n",
       "      <td>Month-to-month</td>\n",
       "    </tr>\n",
       "    <tr>\n",
       "      <th>is_paperless_billing</th>\n",
       "      <td>Yes</td>\n",
       "      <td>No</td>\n",
       "      <td>Yes</td>\n",
       "      <td>No</td>\n",
       "      <td>Yes</td>\n",
       "    </tr>\n",
       "    <tr>\n",
       "      <th>payment_method</th>\n",
       "      <td>Bank transfer (automatic)</td>\n",
       "      <td>Mailed check</td>\n",
       "      <td>Mailed check</td>\n",
       "      <td>Mailed check</td>\n",
       "      <td>Electronic check</td>\n",
       "    </tr>\n",
       "    <tr>\n",
       "      <th>monthly_charges</th>\n",
       "      <td>52.55</td>\n",
       "      <td>20.25</td>\n",
       "      <td>53.85</td>\n",
       "      <td>80.85</td>\n",
       "      <td>70.7</td>\n",
       "    </tr>\n",
       "    <tr>\n",
       "      <th>total_charges</th>\n",
       "      <td>NaN</td>\n",
       "      <td>NaN</td>\n",
       "      <td>108.15</td>\n",
       "      <td>NaN</td>\n",
       "      <td>151.65</td>\n",
       "    </tr>\n",
       "    <tr>\n",
       "      <th>customer_gender</th>\n",
       "      <td>Female</td>\n",
       "      <td>Male</td>\n",
       "      <td>Male</td>\n",
       "      <td>Female</td>\n",
       "      <td>Female</td>\n",
       "    </tr>\n",
       "    <tr>\n",
       "      <th>is_customer_senior</th>\n",
       "      <td>0</td>\n",
       "      <td>0</td>\n",
       "      <td>0</td>\n",
       "      <td>0</td>\n",
       "      <td>0</td>\n",
       "    </tr>\n",
       "    <tr>\n",
       "      <th>has_partner</th>\n",
       "      <td>Yes</td>\n",
       "      <td>No</td>\n",
       "      <td>No</td>\n",
       "      <td>Yes</td>\n",
       "      <td>No</td>\n",
       "    </tr>\n",
       "    <tr>\n",
       "      <th>has_dependents</th>\n",
       "      <td>Yes</td>\n",
       "      <td>Yes</td>\n",
       "      <td>No</td>\n",
       "      <td>Yes</td>\n",
       "      <td>No</td>\n",
       "    </tr>\n",
       "    <tr>\n",
       "      <th>has_multiple_lines_phone</th>\n",
       "      <td>None</td>\n",
       "      <td>No</td>\n",
       "      <td>No</td>\n",
       "      <td>No</td>\n",
       "      <td>No</td>\n",
       "    </tr>\n",
       "    <tr>\n",
       "      <th>internet_type</th>\n",
       "      <td>DSL</td>\n",
       "      <td>None</td>\n",
       "      <td>DSL</td>\n",
       "      <td>DSL</td>\n",
       "      <td>Fiber optic</td>\n",
       "    </tr>\n",
       "    <tr>\n",
       "      <th>has_online_security</th>\n",
       "      <td>Yes</td>\n",
       "      <td>None</td>\n",
       "      <td>Yes</td>\n",
       "      <td>Yes</td>\n",
       "      <td>No</td>\n",
       "    </tr>\n",
       "    <tr>\n",
       "      <th>has_online_backup</th>\n",
       "      <td>No</td>\n",
       "      <td>None</td>\n",
       "      <td>Yes</td>\n",
       "      <td>Yes</td>\n",
       "      <td>No</td>\n",
       "    </tr>\n",
       "    <tr>\n",
       "      <th>has_device_protection</th>\n",
       "      <td>Yes</td>\n",
       "      <td>None</td>\n",
       "      <td>No</td>\n",
       "      <td>Yes</td>\n",
       "      <td>No</td>\n",
       "    </tr>\n",
       "    <tr>\n",
       "      <th>has_tech_support</th>\n",
       "      <td>Yes</td>\n",
       "      <td>None</td>\n",
       "      <td>No</td>\n",
       "      <td>No</td>\n",
       "      <td>No</td>\n",
       "    </tr>\n",
       "    <tr>\n",
       "      <th>has_streaming_tv</th>\n",
       "      <td>Yes</td>\n",
       "      <td>None</td>\n",
       "      <td>No</td>\n",
       "      <td>Yes</td>\n",
       "      <td>No</td>\n",
       "    </tr>\n",
       "    <tr>\n",
       "      <th>has_streaming_movies</th>\n",
       "      <td>No</td>\n",
       "      <td>None</td>\n",
       "      <td>No</td>\n",
       "      <td>Yes</td>\n",
       "      <td>No</td>\n",
       "    </tr>\n",
       "  </tbody>\n",
       "</table>\n",
       "</div>"
      ],
      "text/plain": [
       "                                                  0             1  \\\n",
       "customer_id                              4472-LVYGI    3115-CZMZD   \n",
       "begin_date                               2020-02-01    2020-02-01   \n",
       "end_date                                       None          None   \n",
       "contract_type                              Two year      Two year   \n",
       "is_paperless_billing                            Yes            No   \n",
       "payment_method            Bank transfer (automatic)  Mailed check   \n",
       "monthly_charges                               52.55         20.25   \n",
       "total_charges                                   NaN           NaN   \n",
       "customer_gender                              Female          Male   \n",
       "is_customer_senior                                0             0   \n",
       "has_partner                                     Yes            No   \n",
       "has_dependents                                  Yes           Yes   \n",
       "has_multiple_lines_phone                       None            No   \n",
       "internet_type                                   DSL          None   \n",
       "has_online_security                             Yes          None   \n",
       "has_online_backup                                No          None   \n",
       "has_device_protection                           Yes          None   \n",
       "has_tech_support                                Yes          None   \n",
       "has_streaming_tv                                Yes          None   \n",
       "has_streaming_movies                             No          None   \n",
       "\n",
       "                                       2             3                 4  \n",
       "customer_id                   3668-QPYBK    5709-LVOEQ        9237-HQITU  \n",
       "begin_date                    2018-08-09    2020-02-01        2019-01-26  \n",
       "end_date                      2019-12-01          None        2019-11-01  \n",
       "contract_type             Month-to-month      Two year    Month-to-month  \n",
       "is_paperless_billing                 Yes            No               Yes  \n",
       "payment_method              Mailed check  Mailed check  Electronic check  \n",
       "monthly_charges                    53.85         80.85              70.7  \n",
       "total_charges                     108.15           NaN            151.65  \n",
       "customer_gender                     Male        Female            Female  \n",
       "is_customer_senior                     0             0                 0  \n",
       "has_partner                           No           Yes                No  \n",
       "has_dependents                        No           Yes                No  \n",
       "has_multiple_lines_phone              No            No                No  \n",
       "internet_type                        DSL           DSL       Fiber optic  \n",
       "has_online_security                  Yes           Yes                No  \n",
       "has_online_backup                    Yes           Yes                No  \n",
       "has_device_protection                 No           Yes                No  \n",
       "has_tech_support                      No            No                No  \n",
       "has_streaming_tv                      No           Yes                No  \n",
       "has_streaming_movies                  No           Yes                No  "
      ]
     },
     "execution_count": 12,
     "metadata": {},
     "output_type": "execute_result"
    }
   ],
   "source": [
    "df.head().T"
   ]
  },
  {
   "cell_type": "markdown",
   "id": "5ac38ba4",
   "metadata": {},
   "source": [
    "Датасет готов."
   ]
  },
  {
   "cell_type": "markdown",
   "id": "e83ace8a",
   "metadata": {},
   "source": [
    "## Создание признаков"
   ]
  },
  {
   "cell_type": "markdown",
   "id": "6c906655",
   "metadata": {},
   "source": [
    "Добавим целевой признак `is_lost_customer`, равный 0 для клиентов с пропуском в `end_date` и 1 в противном случае."
   ]
  },
  {
   "cell_type": "code",
   "execution_count": 13,
   "id": "c593796e",
   "metadata": {},
   "outputs": [],
   "source": [
    "df[\"is_lost_customer\"] = (~df[\"end_date\"].isna()).astype(int)"
   ]
  },
  {
   "cell_type": "markdown",
   "id": "9e79369a",
   "metadata": {},
   "source": [
    "Преобразуем тип для дат из строк в date"
   ]
  },
  {
   "cell_type": "code",
   "execution_count": 14,
   "id": "32332361",
   "metadata": {},
   "outputs": [],
   "source": [
    "df.begin_date = pd.to_datetime(df.begin_date, format=\"%Y-%m-%d\").dt.floor(\"D\")"
   ]
  },
  {
   "cell_type": "code",
   "execution_count": 15,
   "id": "c57a166c",
   "metadata": {},
   "outputs": [],
   "source": [
    "df.end_date = pd.to_datetime(df.end_date, format=\"%Y-%m-%d\").dt.floor(\"D\")"
   ]
  },
  {
   "cell_type": "markdown",
   "id": "1d07ed91",
   "metadata": {},
   "source": [
    "Заполним пропуски в end_date максимальным значением begin_date и посчитаем возраст контракта в днях."
   ]
  },
  {
   "cell_type": "code",
   "execution_count": 16,
   "id": "b05b1a4a",
   "metadata": {},
   "outputs": [],
   "source": [
    "df.end_date = df.end_date.fillna(df.begin_date.max())"
   ]
  },
  {
   "cell_type": "code",
   "execution_count": 17,
   "id": "6dd3610c",
   "metadata": {},
   "outputs": [],
   "source": [
    "df[\"contract_age_days\"] = (df.end_date - df.begin_date).dt.days"
   ]
  },
  {
   "cell_type": "markdown",
   "id": "cfe2600b",
   "metadata": {},
   "source": [
    "Заполним пропуски в `total_charges` значениями из `monthly_charges`."
   ]
  },
  {
   "cell_type": "code",
   "execution_count": 18,
   "id": "12047a21",
   "metadata": {},
   "outputs": [],
   "source": [
    "df.total_charges = df.total_charges.fillna(df.monthly_charges)"
   ]
  },
  {
   "cell_type": "markdown",
   "id": "2eacc0bd",
   "metadata": {},
   "source": [
    "Добавим признаки, пользуется ли клиент услугами телефонии и интернета."
   ]
  },
  {
   "cell_type": "code",
   "execution_count": 19,
   "id": "fa25a681",
   "metadata": {},
   "outputs": [],
   "source": [
    "df[\"has_phone_service\"] = (~df.has_multiple_lines_phone.isna()).astype(int)\n",
    "df[\"has_internet_service\"] = (~df.internet_type.isna()).astype(int)"
   ]
  },
  {
   "cell_type": "markdown",
   "id": "e497fe1a",
   "metadata": {},
   "source": [
    "Заменим значения Yes/No на 1/0"
   ]
  },
  {
   "cell_type": "code",
   "execution_count": 20,
   "id": "d2e8bbf1",
   "metadata": {},
   "outputs": [],
   "source": [
    "yesno_columns = [\n",
    "    'is_paperless_billing', 'has_partner', 'has_dependents',\n",
    "    'has_multiple_lines_phone', 'has_online_security',\n",
    "    'has_online_backup', 'has_device_protection', 'has_tech_support',\n",
    "    'has_streaming_tv', 'has_streaming_movies'\n",
    "]"
   ]
  },
  {
   "cell_type": "code",
   "execution_count": 21,
   "id": "7452d485",
   "metadata": {},
   "outputs": [],
   "source": [
    "for col in yesno_columns:\n",
    "    df[col] = (df[col] == \"Yes\").astype(int)"
   ]
  },
  {
   "cell_type": "markdown",
   "id": "2063f3bc",
   "metadata": {},
   "source": [
    "Для пола клиента заменим значение Male/Female на 1/0"
   ]
  },
  {
   "cell_type": "code",
   "execution_count": 22,
   "id": "12c03b6b",
   "metadata": {},
   "outputs": [],
   "source": [
    "df.customer_gender = (df.customer_gender == \"Male\").astype(int)"
   ]
  },
  {
   "cell_type": "markdown",
   "id": "9c6dcab4",
   "metadata": {},
   "source": [
    "Для типа интернет соединения заменим DSL/Fiber optic/None на 1 если тип равен DSL и 0 в противном случае. Разницу между Fiber optic и None будет определять значение признака `has_internet_service`"
   ]
  },
  {
   "cell_type": "code",
   "execution_count": 23,
   "id": "6a60e267",
   "metadata": {},
   "outputs": [],
   "source": [
    "df.internet_type = (df.internet_type == \"DSL\").astype(int)"
   ]
  },
  {
   "cell_type": "markdown",
   "id": "d2005f0a",
   "metadata": {},
   "source": [
    "Добавим признаки is_one_year_contract и is_two_contract"
   ]
  },
  {
   "cell_type": "code",
   "execution_count": 24,
   "id": "db3fb7e9",
   "metadata": {},
   "outputs": [],
   "source": [
    "df[\"is_one_year_contract\"] = (df.contract_type == \"One year\").astype(int)\n",
    "df[\"is_two_year_contract\"] = (df.contract_type == \"Two year\").astype(int)"
   ]
  },
  {
   "cell_type": "code",
   "execution_count": 25,
   "id": "941f1a30",
   "metadata": {},
   "outputs": [
    {
     "data": {
      "text/plain": [
       "Electronic check             2365\n",
       "Mailed check                 1612\n",
       "Bank transfer (automatic)    1544\n",
       "Credit card (automatic)      1522\n",
       "Name: payment_method, dtype: int64"
      ]
     },
     "execution_count": 25,
     "metadata": {},
     "output_type": "execute_result"
    }
   ],
   "source": [
    "df.payment_method.value_counts()"
   ]
  },
  {
   "cell_type": "markdown",
   "id": "15a58469",
   "metadata": {},
   "source": [
    "Аналогично для типа платежей."
   ]
  },
  {
   "cell_type": "code",
   "execution_count": 26,
   "id": "e8929f08",
   "metadata": {},
   "outputs": [],
   "source": [
    "df[\"is_bank_payment\"] = (df.payment_method == \"Bank transfer (automatic)\").astype(int)\n",
    "df[\"is_card_payment\"] = (df.payment_method == \"Credit card (automatic)\").astype(int)\n",
    "df[\"is_echeck_payment\"] = (df.payment_method == \"Electronic check\").astype(int)"
   ]
  },
  {
   "cell_type": "markdown",
   "id": "c17bc9da",
   "metadata": {},
   "source": [
    "Удалим столбцы, на основании которых мы сделали производные признаки."
   ]
  },
  {
   "cell_type": "code",
   "execution_count": 27,
   "id": "2c18de2a",
   "metadata": {},
   "outputs": [],
   "source": [
    "df = df.drop([\"customer_id\", \"begin_date\", \"end_date\", \"contract_type\", \"payment_method\"], axis=1)"
   ]
  },
  {
   "cell_type": "code",
   "execution_count": 28,
   "id": "d0b3ae7f",
   "metadata": {},
   "outputs": [
    {
     "data": {
      "text/html": [
       "<div>\n",
       "<style scoped>\n",
       "    .dataframe tbody tr th:only-of-type {\n",
       "        vertical-align: middle;\n",
       "    }\n",
       "\n",
       "    .dataframe tbody tr th {\n",
       "        vertical-align: top;\n",
       "    }\n",
       "\n",
       "    .dataframe thead th {\n",
       "        text-align: right;\n",
       "    }\n",
       "</style>\n",
       "<table border=\"1\" class=\"dataframe\">\n",
       "  <thead>\n",
       "    <tr style=\"text-align: right;\">\n",
       "      <th></th>\n",
       "      <th>0</th>\n",
       "      <th>1</th>\n",
       "      <th>2</th>\n",
       "      <th>3</th>\n",
       "      <th>4</th>\n",
       "    </tr>\n",
       "  </thead>\n",
       "  <tbody>\n",
       "    <tr>\n",
       "      <th>is_paperless_billing</th>\n",
       "      <td>1.00</td>\n",
       "      <td>0.00</td>\n",
       "      <td>1.00</td>\n",
       "      <td>0.00</td>\n",
       "      <td>1.00</td>\n",
       "    </tr>\n",
       "    <tr>\n",
       "      <th>monthly_charges</th>\n",
       "      <td>52.55</td>\n",
       "      <td>20.25</td>\n",
       "      <td>53.85</td>\n",
       "      <td>80.85</td>\n",
       "      <td>70.70</td>\n",
       "    </tr>\n",
       "    <tr>\n",
       "      <th>total_charges</th>\n",
       "      <td>52.55</td>\n",
       "      <td>20.25</td>\n",
       "      <td>108.15</td>\n",
       "      <td>80.85</td>\n",
       "      <td>151.65</td>\n",
       "    </tr>\n",
       "    <tr>\n",
       "      <th>customer_gender</th>\n",
       "      <td>0.00</td>\n",
       "      <td>1.00</td>\n",
       "      <td>1.00</td>\n",
       "      <td>0.00</td>\n",
       "      <td>0.00</td>\n",
       "    </tr>\n",
       "    <tr>\n",
       "      <th>is_customer_senior</th>\n",
       "      <td>0.00</td>\n",
       "      <td>0.00</td>\n",
       "      <td>0.00</td>\n",
       "      <td>0.00</td>\n",
       "      <td>0.00</td>\n",
       "    </tr>\n",
       "    <tr>\n",
       "      <th>has_partner</th>\n",
       "      <td>1.00</td>\n",
       "      <td>0.00</td>\n",
       "      <td>0.00</td>\n",
       "      <td>1.00</td>\n",
       "      <td>0.00</td>\n",
       "    </tr>\n",
       "    <tr>\n",
       "      <th>has_dependents</th>\n",
       "      <td>1.00</td>\n",
       "      <td>1.00</td>\n",
       "      <td>0.00</td>\n",
       "      <td>1.00</td>\n",
       "      <td>0.00</td>\n",
       "    </tr>\n",
       "    <tr>\n",
       "      <th>has_multiple_lines_phone</th>\n",
       "      <td>0.00</td>\n",
       "      <td>0.00</td>\n",
       "      <td>0.00</td>\n",
       "      <td>0.00</td>\n",
       "      <td>0.00</td>\n",
       "    </tr>\n",
       "    <tr>\n",
       "      <th>internet_type</th>\n",
       "      <td>1.00</td>\n",
       "      <td>0.00</td>\n",
       "      <td>1.00</td>\n",
       "      <td>1.00</td>\n",
       "      <td>0.00</td>\n",
       "    </tr>\n",
       "    <tr>\n",
       "      <th>has_online_security</th>\n",
       "      <td>1.00</td>\n",
       "      <td>0.00</td>\n",
       "      <td>1.00</td>\n",
       "      <td>1.00</td>\n",
       "      <td>0.00</td>\n",
       "    </tr>\n",
       "    <tr>\n",
       "      <th>has_online_backup</th>\n",
       "      <td>0.00</td>\n",
       "      <td>0.00</td>\n",
       "      <td>1.00</td>\n",
       "      <td>1.00</td>\n",
       "      <td>0.00</td>\n",
       "    </tr>\n",
       "    <tr>\n",
       "      <th>has_device_protection</th>\n",
       "      <td>1.00</td>\n",
       "      <td>0.00</td>\n",
       "      <td>0.00</td>\n",
       "      <td>1.00</td>\n",
       "      <td>0.00</td>\n",
       "    </tr>\n",
       "    <tr>\n",
       "      <th>has_tech_support</th>\n",
       "      <td>1.00</td>\n",
       "      <td>0.00</td>\n",
       "      <td>0.00</td>\n",
       "      <td>0.00</td>\n",
       "      <td>0.00</td>\n",
       "    </tr>\n",
       "    <tr>\n",
       "      <th>has_streaming_tv</th>\n",
       "      <td>1.00</td>\n",
       "      <td>0.00</td>\n",
       "      <td>0.00</td>\n",
       "      <td>1.00</td>\n",
       "      <td>0.00</td>\n",
       "    </tr>\n",
       "    <tr>\n",
       "      <th>has_streaming_movies</th>\n",
       "      <td>0.00</td>\n",
       "      <td>0.00</td>\n",
       "      <td>0.00</td>\n",
       "      <td>1.00</td>\n",
       "      <td>0.00</td>\n",
       "    </tr>\n",
       "    <tr>\n",
       "      <th>is_lost_customer</th>\n",
       "      <td>0.00</td>\n",
       "      <td>0.00</td>\n",
       "      <td>1.00</td>\n",
       "      <td>0.00</td>\n",
       "      <td>1.00</td>\n",
       "    </tr>\n",
       "    <tr>\n",
       "      <th>contract_age_days</th>\n",
       "      <td>0.00</td>\n",
       "      <td>0.00</td>\n",
       "      <td>479.00</td>\n",
       "      <td>0.00</td>\n",
       "      <td>279.00</td>\n",
       "    </tr>\n",
       "    <tr>\n",
       "      <th>has_phone_service</th>\n",
       "      <td>0.00</td>\n",
       "      <td>1.00</td>\n",
       "      <td>1.00</td>\n",
       "      <td>1.00</td>\n",
       "      <td>1.00</td>\n",
       "    </tr>\n",
       "    <tr>\n",
       "      <th>has_internet_service</th>\n",
       "      <td>1.00</td>\n",
       "      <td>0.00</td>\n",
       "      <td>1.00</td>\n",
       "      <td>1.00</td>\n",
       "      <td>1.00</td>\n",
       "    </tr>\n",
       "    <tr>\n",
       "      <th>is_one_year_contract</th>\n",
       "      <td>0.00</td>\n",
       "      <td>0.00</td>\n",
       "      <td>0.00</td>\n",
       "      <td>0.00</td>\n",
       "      <td>0.00</td>\n",
       "    </tr>\n",
       "    <tr>\n",
       "      <th>is_two_year_contract</th>\n",
       "      <td>1.00</td>\n",
       "      <td>1.00</td>\n",
       "      <td>0.00</td>\n",
       "      <td>1.00</td>\n",
       "      <td>0.00</td>\n",
       "    </tr>\n",
       "    <tr>\n",
       "      <th>is_bank_payment</th>\n",
       "      <td>1.00</td>\n",
       "      <td>0.00</td>\n",
       "      <td>0.00</td>\n",
       "      <td>0.00</td>\n",
       "      <td>0.00</td>\n",
       "    </tr>\n",
       "    <tr>\n",
       "      <th>is_card_payment</th>\n",
       "      <td>0.00</td>\n",
       "      <td>0.00</td>\n",
       "      <td>0.00</td>\n",
       "      <td>0.00</td>\n",
       "      <td>0.00</td>\n",
       "    </tr>\n",
       "    <tr>\n",
       "      <th>is_echeck_payment</th>\n",
       "      <td>0.00</td>\n",
       "      <td>0.00</td>\n",
       "      <td>0.00</td>\n",
       "      <td>0.00</td>\n",
       "      <td>1.00</td>\n",
       "    </tr>\n",
       "  </tbody>\n",
       "</table>\n",
       "</div>"
      ],
      "text/plain": [
       "                              0      1       2      3       4\n",
       "is_paperless_billing       1.00   0.00    1.00   0.00    1.00\n",
       "monthly_charges           52.55  20.25   53.85  80.85   70.70\n",
       "total_charges             52.55  20.25  108.15  80.85  151.65\n",
       "customer_gender            0.00   1.00    1.00   0.00    0.00\n",
       "is_customer_senior         0.00   0.00    0.00   0.00    0.00\n",
       "has_partner                1.00   0.00    0.00   1.00    0.00\n",
       "has_dependents             1.00   1.00    0.00   1.00    0.00\n",
       "has_multiple_lines_phone   0.00   0.00    0.00   0.00    0.00\n",
       "internet_type              1.00   0.00    1.00   1.00    0.00\n",
       "has_online_security        1.00   0.00    1.00   1.00    0.00\n",
       "has_online_backup          0.00   0.00    1.00   1.00    0.00\n",
       "has_device_protection      1.00   0.00    0.00   1.00    0.00\n",
       "has_tech_support           1.00   0.00    0.00   0.00    0.00\n",
       "has_streaming_tv           1.00   0.00    0.00   1.00    0.00\n",
       "has_streaming_movies       0.00   0.00    0.00   1.00    0.00\n",
       "is_lost_customer           0.00   0.00    1.00   0.00    1.00\n",
       "contract_age_days          0.00   0.00  479.00   0.00  279.00\n",
       "has_phone_service          0.00   1.00    1.00   1.00    1.00\n",
       "has_internet_service       1.00   0.00    1.00   1.00    1.00\n",
       "is_one_year_contract       0.00   0.00    0.00   0.00    0.00\n",
       "is_two_year_contract       1.00   1.00    0.00   1.00    0.00\n",
       "is_bank_payment            1.00   0.00    0.00   0.00    0.00\n",
       "is_card_payment            0.00   0.00    0.00   0.00    0.00\n",
       "is_echeck_payment          0.00   0.00    0.00   0.00    1.00"
      ]
     },
     "execution_count": 28,
     "metadata": {},
     "output_type": "execute_result"
    }
   ],
   "source": [
    "df.head().T"
   ]
  },
  {
   "cell_type": "markdown",
   "id": "031c3407",
   "metadata": {},
   "source": [
    "Все признаки имеют численные значения."
   ]
  },
  {
   "cell_type": "markdown",
   "id": "70cf27a0",
   "metadata": {},
   "source": [
    "## Разделение выборок"
   ]
  },
  {
   "cell_type": "markdown",
   "id": "5103ad45",
   "metadata": {},
   "source": [
    "Разделем данные на обучающую и тестовую выборки"
   ]
  },
  {
   "cell_type": "code",
   "execution_count": 29,
   "id": "66e6c223",
   "metadata": {},
   "outputs": [
    {
     "data": {
      "text/plain": [
       "((5634, 24), (1409, 24))"
      ]
     },
     "execution_count": 29,
     "metadata": {},
     "output_type": "execute_result"
    }
   ],
   "source": [
    "train, test = train_test_split(df,\n",
    "                               test_size=0.2,\n",
    "                               stratify=df.is_lost_customer,\n",
    "                               random_state=RANDOM_SEED)\n",
    "\n",
    "train.shape, test.shape"
   ]
  },
  {
   "cell_type": "markdown",
   "id": "dd33db12",
   "metadata": {},
   "source": [
    "## Исследовательский анализ данных"
   ]
  },
  {
   "cell_type": "markdown",
   "id": "fbc8969b",
   "metadata": {},
   "source": [
    "### Сравнение распределений платежей"
   ]
  },
  {
   "cell_type": "markdown",
   "id": "ff65fe8f",
   "metadata": {},
   "source": [
    "Сравним распределения величин ежемесячных платежей (`MonthlyCharges`) всех действующих клиентов и тех, кто ушёл. Для каждой группы посчитаем статистические показатели: средние, минимальные и максимальные значения, медиану и величины 25%- и 75%-квартилей. Построим гистограммы распределения."
   ]
  },
  {
   "cell_type": "code",
   "execution_count": 30,
   "id": "76b447f6",
   "metadata": {},
   "outputs": [
    {
     "data": {
      "text/html": [
       "<div>\n",
       "<style scoped>\n",
       "    .dataframe tbody tr th:only-of-type {\n",
       "        vertical-align: middle;\n",
       "    }\n",
       "\n",
       "    .dataframe tbody tr th {\n",
       "        vertical-align: top;\n",
       "    }\n",
       "\n",
       "    .dataframe thead th {\n",
       "        text-align: right;\n",
       "    }\n",
       "</style>\n",
       "<table border=\"1\" class=\"dataframe\">\n",
       "  <thead>\n",
       "    <tr style=\"text-align: right;\">\n",
       "      <th></th>\n",
       "      <th>Active</th>\n",
       "      <th>Gone</th>\n",
       "    </tr>\n",
       "  </thead>\n",
       "  <tbody>\n",
       "    <tr>\n",
       "      <th>count</th>\n",
       "      <td>4139.000000</td>\n",
       "      <td>1495.000000</td>\n",
       "    </tr>\n",
       "    <tr>\n",
       "      <th>mean</th>\n",
       "      <td>61.272445</td>\n",
       "      <td>74.687525</td>\n",
       "    </tr>\n",
       "    <tr>\n",
       "      <th>std</th>\n",
       "      <td>31.053028</td>\n",
       "      <td>24.654819</td>\n",
       "    </tr>\n",
       "    <tr>\n",
       "      <th>min</th>\n",
       "      <td>18.250000</td>\n",
       "      <td>18.950000</td>\n",
       "    </tr>\n",
       "    <tr>\n",
       "      <th>25%</th>\n",
       "      <td>25.100000</td>\n",
       "      <td>58.025000</td>\n",
       "    </tr>\n",
       "    <tr>\n",
       "      <th>50%</th>\n",
       "      <td>64.550000</td>\n",
       "      <td>79.750000</td>\n",
       "    </tr>\n",
       "    <tr>\n",
       "      <th>75%</th>\n",
       "      <td>88.300000</td>\n",
       "      <td>94.275000</td>\n",
       "    </tr>\n",
       "    <tr>\n",
       "      <th>max</th>\n",
       "      <td>118.750000</td>\n",
       "      <td>118.350000</td>\n",
       "    </tr>\n",
       "  </tbody>\n",
       "</table>\n",
       "</div>"
      ],
      "text/plain": [
       "            Active         Gone\n",
       "count  4139.000000  1495.000000\n",
       "mean     61.272445    74.687525\n",
       "std      31.053028    24.654819\n",
       "min      18.250000    18.950000\n",
       "25%      25.100000    58.025000\n",
       "50%      64.550000    79.750000\n",
       "75%      88.300000    94.275000\n",
       "max     118.750000   118.350000"
      ]
     },
     "execution_count": 30,
     "metadata": {},
     "output_type": "execute_result"
    }
   ],
   "source": [
    "pd.DataFrame({\n",
    "    \"Active\":\n",
    "    train[train.is_lost_customer == 0].monthly_charges.describe(),\n",
    "    \"Gone\":\n",
    "    train[train.is_lost_customer == 1].monthly_charges.describe()\n",
    "})"
   ]
  },
  {
   "cell_type": "code",
   "execution_count": 31,
   "id": "ea252d07",
   "metadata": {},
   "outputs": [
    {
     "data": {
      "image/png": "[encoded data removed]",
      "text/plain": [
       "<Figure size 900x400 with 2 Axes>"
      ]
     },
     "metadata": {
      "image/png": {
       "height": 392,
       "width": 761
      }
     },
     "output_type": "display_data"
    }
   ],
   "source": [
    "n_bins = 25\n",
    "fig = plt.figure(figsize=(9, 4))\n",
    "ax = fig.add_subplot(121)\n",
    "ax.set_title(\"Active\")\n",
    "ax.set_xlabel(\"Monthly Charges\")\n",
    "train[train.is_lost_customer == 0].monthly_charges.hist(bins=n_bins, density=True, color=\"C2\")\n",
    "ax = fig.add_subplot(122, sharey=ax)\n",
    "ax.set_title(\"Gone\")\n",
    "ax.set_xlabel(\"Monthly Charges\")\n",
    "train[train.is_lost_customer == 1].monthly_charges.hist(bins=n_bins, density=True, color=\"C1\")\n",
    "plt.show()"
   ]
  },
  {
   "cell_type": "markdown",
   "id": "681e74ac",
   "metadata": {},
   "source": [
    "Видим, что оператор теряет преимущественно клиентов с ежемесячными расходами больше 70."
   ]
  },
  {
   "cell_type": "markdown",
   "id": "c7181a01",
   "metadata": {},
   "source": [
    "Сравним поведение этих групп. Построим два графика, отражающие:\n",
    "- долю пользователей телефонной связи,\n",
    "- долю интернет-пользователей."
   ]
  },
  {
   "cell_type": "code",
   "execution_count": 32,
   "id": "27b32c60",
   "metadata": {},
   "outputs": [
    {
     "data": {
      "image/png": "[encoded data removed]",
      "text/plain": [
       "<Figure size 640x480 with 1 Axes>"
      ]
     },
     "metadata": {
      "image/png": {
       "height": 453,
       "width": 679
      }
     },
     "output_type": "display_data"
    }
   ],
   "source": [
    "pd.pivot_table(train,\n",
    "               index=\"is_lost_customer\",\n",
    "               values=[\"has_phone_service\", \"has_internet_service\"],\n",
    "              aggfunc=\"mean\").T.plot.barh(color=[\"C1\", \"C2\"], grid=True)\n",
    "plt.title(\"Доля пользователей телефонной связи и интернета\\nсреди активных и ушедших клиентов\")\n",
    "plt.xlim(0, 1.4) # пространство для легенды\n",
    "plt.show()"
   ]
  },
  {
   "cell_type": "markdown",
   "id": "b9a22d98",
   "metadata": {},
   "source": [
    "Доля пользователей телефонной связью не отличается между активными и ушедшими клиентами, а доля пользователей сервисом интернета заметно выше для ушедших клиентов."
   ]
  },
  {
   "cell_type": "markdown",
   "id": "61c7ce4c",
   "metadata": {},
   "source": [
    "### Выводы"
   ]
  },
  {
   "cell_type": "markdown",
   "id": "7645c03c",
   "metadata": {},
   "source": [
    "Мы проанализировали распределения величин ежемесячных платежей для активных и ушедших клиентов. Выяснили, что ежемесячные платежи этих групп отличаются, среди ушедших клиентов больше тех, кто платил в месяц более 70.\n",
    "\n",
    "Сравнение поведения активных и ушедших клиентов показывает, что доля пользователей телефонной связью не отличается между активными и ушедшими клиентами, а доля пользователей сервисом интернета заметно выше для ушедших клиентов."
   ]
  },
  {
   "cell_type": "markdown",
   "id": "e3a2f051",
   "metadata": {},
   "source": [
    "## Обучение моделей"
   ]
  },
  {
   "cell_type": "code",
   "execution_count": 33,
   "id": "cb914ebc",
   "metadata": {},
   "outputs": [
    {
     "data": {
      "text/plain": [
       "((4225, 23), (1409, 23), (4225,), (1409,))"
      ]
     },
     "execution_count": 33,
     "metadata": {},
     "output_type": "execute_result"
    }
   ],
   "source": [
    "X_train, X_valid, y_train, y_valid = train_test_split(\n",
    "    train.drop(\"is_lost_customer\", axis=1),\n",
    "    train.is_lost_customer,\n",
    "    test_size=0.25,\n",
    "    stratify=train.is_lost_customer,\n",
    "    random_state=RANDOM_SEED)\n",
    "\n",
    "X_train.shape, X_valid.shape, y_train.shape, y_valid.shape"
   ]
  },
  {
   "cell_type": "markdown",
   "id": "bc612e0d",
   "metadata": {},
   "source": [
    "### Решающее дерево"
   ]
  },
  {
   "cell_type": "code",
   "execution_count": 58,
   "id": "8fb0775b",
   "metadata": {},
   "outputs": [],
   "source": [
    "tree_clf = DecisionTreeClassifier(max_depth=10,\n",
    "                                  max_features=\"sqrt\",\n",
    "                                  random_state=RANDOM_SEED)"
   ]
  },
  {
   "cell_type": "code",
   "execution_count": 59,
   "id": "9ac39b3f",
   "metadata": {},
   "outputs": [
    {
     "data": {
      "text/html": [
       "<style>#sk-container-id-6 {color: black;background-color: white;}#sk-container-id-6 pre{padding: 0;}#sk-container-id-6 div.sk-toggleable {background-color: white;}#sk-container-id-6 label.sk-toggleable__label {cursor: pointer;display: block;width: 100%;margin-bottom: 0;padding: 0.3em;box-sizing: border-box;text-align: center;}#sk-container-id-6 label.sk-toggleable__label-arrow:before {content: \"▸\";float: left;margin-right: 0.25em;color: #696969;}#sk-container-id-6 label.sk-toggleable__label-arrow:hover:before {color: black;}#sk-container-id-6 div.sk-estimator:hover label.sk-toggleable__label-arrow:before {color: black;}#sk-container-id-6 div.sk-toggleable__content {max-height: 0;max-width: 0;overflow: hidden;text-align: left;background-color: #f0f8ff;}#sk-container-id-6 div.sk-toggleable__content pre {margin: 0.2em;color: black;border-radius: 0.25em;background-color: #f0f8ff;}#sk-container-id-6 input.sk-toggleable__control:checked~div.sk-toggleable__content {max-height: 200px;max-width: 100%;overflow: auto;}#sk-container-id-6 input.sk-toggleable__control:checked~label.sk-toggleable__label-arrow:before {content: \"▾\";}#sk-container-id-6 div.sk-estimator input.sk-toggleable__control:checked~label.sk-toggleable__label {background-color: #d4ebff;}#sk-container-id-6 div.sk-label input.sk-toggleable__control:checked~label.sk-toggleable__label {background-color: #d4ebff;}#sk-container-id-6 input.sk-hidden--visually {border: 0;clip: rect(1px 1px 1px 1px);clip: rect(1px, 1px, 1px, 1px);height: 1px;margin: -1px;overflow: hidden;padding: 0;position: absolute;width: 1px;}#sk-container-id-6 div.sk-estimator {font-family: monospace;background-color: #f0f8ff;border: 1px dotted black;border-radius: 0.25em;box-sizing: border-box;margin-bottom: 0.5em;}#sk-container-id-6 div.sk-estimator:hover {background-color: #d4ebff;}#sk-container-id-6 div.sk-parallel-item::after {content: \"\";width: 100%;border-bottom: 1px solid gray;flex-grow: 1;}#sk-container-id-6 div.sk-label:hover label.sk-toggleable__label {background-color: #d4ebff;}#sk-container-id-6 div.sk-serial::before {content: \"\";position: absolute;border-left: 1px solid gray;box-sizing: border-box;top: 0;bottom: 0;left: 50%;z-index: 0;}#sk-container-id-6 div.sk-serial {display: flex;flex-direction: column;align-items: center;background-color: white;padding-right: 0.2em;padding-left: 0.2em;position: relative;}#sk-container-id-6 div.sk-item {position: relative;z-index: 1;}#sk-container-id-6 div.sk-parallel {display: flex;align-items: stretch;justify-content: center;background-color: white;position: relative;}#sk-container-id-6 div.sk-item::before, #sk-container-id-6 div.sk-parallel-item::before {content: \"\";position: absolute;border-left: 1px solid gray;box-sizing: border-box;top: 0;bottom: 0;left: 50%;z-index: -1;}#sk-container-id-6 div.sk-parallel-item {display: flex;flex-direction: column;z-index: 1;position: relative;background-color: white;}#sk-container-id-6 div.sk-parallel-item:first-child::after {align-self: flex-end;width: 50%;}#sk-container-id-6 div.sk-parallel-item:last-child::after {align-self: flex-start;width: 50%;}#sk-container-id-6 div.sk-parallel-item:only-child::after {width: 0;}#sk-container-id-6 div.sk-dashed-wrapped {border: 1px dashed gray;margin: 0 0.4em 0.5em 0.4em;box-sizing: border-box;padding-bottom: 0.4em;background-color: white;}#sk-container-id-6 div.sk-label label {font-family: monospace;font-weight: bold;display: inline-block;line-height: 1.2em;}#sk-container-id-6 div.sk-label-container {text-align: center;}#sk-container-id-6 div.sk-container {/* jupyter's `normalize.less` sets `[hidden] { display: none; }` but bootstrap.min.css set `[hidden] { display: none !important; }` so we also need the `!important` here to be able to override the default hidden behavior on the sphinx rendered scikit-learn.org. See: https://github.com/scikit-learn/scikit-learn/issues/21755 */display: inline-block !important;position: relative;}#sk-container-id-6 div.sk-text-repr-fallback {display: none;}</style><div id=\"sk-container-id-6\" class=\"sk-top-container\"><div class=\"sk-text-repr-fallback\"><pre>DecisionTreeClassifier(max_depth=10, max_features=&#x27;sqrt&#x27;, random_state=20230311)</pre><b>In a Jupyter environment, please rerun this cell to show the HTML representation or trust the notebook. <br />On GitHub, the HTML representation is unable to render, please try loading this page with nbviewer.org.</b></div><div class=\"sk-container\" hidden><div class=\"sk-item\"><div class=\"sk-estimator sk-toggleable\"><input class=\"sk-toggleable__control sk-hidden--visually\" id=\"sk-estimator-id-6\" type=\"checkbox\" checked><label for=\"sk-estimator-id-6\" class=\"sk-toggleable__label sk-toggleable__label-arrow\">DecisionTreeClassifier</label><div class=\"sk-toggleable__content\"><pre>DecisionTreeClassifier(max_depth=10, max_features=&#x27;sqrt&#x27;, random_state=20230311)</pre></div></div></div></div></div>"
      ],
      "text/plain": [
       "DecisionTreeClassifier(max_depth=10, max_features='sqrt', random_state=20230311)"
      ]
     },
     "execution_count": 59,
     "metadata": {},
     "output_type": "execute_result"
    }
   ],
   "source": [
    "tree_clf.fit(X_train, y_train)"
   ]
  },
  {
   "cell_type": "code",
   "execution_count": 60,
   "id": "5aa2f70a",
   "metadata": {},
   "outputs": [],
   "source": [
    "proba = tree_clf.predict_proba(X_valid)"
   ]
  },
  {
   "cell_type": "code",
   "execution_count": 75,
   "id": "5c2711e8",
   "metadata": {},
   "outputs": [
    {
     "name": "stdout",
     "output_type": "stream",
     "text": [
      "ROC AUC:   0.8326\n",
      "Accuracy:  0.7566\n"
     ]
    }
   ],
   "source": [
    "print(\n",
    "f\"ROC AUC:   {roc_auc_score(y_valid, proba[:, 1]):.4f}\\n\"\\\n",
    "f\"Accuracy: {tree_clf.score(X_valid, y_valid): .4f}\")"
   ]
  },
  {
   "cell_type": "markdown",
   "id": "3f627ad5",
   "metadata": {},
   "source": [
    "### Бустинг"
   ]
  },
  {
   "cell_type": "code",
   "execution_count": 63,
   "id": "75d941f2",
   "metadata": {},
   "outputs": [],
   "source": [
    "categorical_columns = ['is_paperless_billing',\n",
    "       'customer_gender', 'is_customer_senior', 'has_partner',\n",
    "       'has_dependents', 'has_multiple_lines_phone', 'internet_type',\n",
    "       'has_online_security', 'has_online_backup', 'has_device_protection',\n",
    "       'has_tech_support', 'has_streaming_tv', 'has_streaming_movies',\n",
    "       'has_phone_service', 'has_internet_service',\n",
    "       'is_one_year_contract', 'is_two_year_contract', 'is_bank_payment',\n",
    "       'is_card_payment', 'is_echeck_payment']"
   ]
  },
  {
   "cell_type": "code",
   "execution_count": 64,
   "id": "7551658c",
   "metadata": {},
   "outputs": [],
   "source": [
    "hist_clf = HistGradientBoostingClassifier(\n",
    "    max_depth=7,\n",
    "    categorical_features=categorical_columns, random_state=RANDOM_SEED)"
   ]
  },
  {
   "cell_type": "code",
   "execution_count": 65,
   "id": "4cb8a94b",
   "metadata": {},
   "outputs": [
    {
     "data": {
      "text/html": [
       "<style>#sk-container-id-7 {color: black;background-color: white;}#sk-container-id-7 pre{padding: 0;}#sk-container-id-7 div.sk-toggleable {background-color: white;}#sk-container-id-7 label.sk-toggleable__label {cursor: pointer;display: block;width: 100%;margin-bottom: 0;padding: 0.3em;box-sizing: border-box;text-align: center;}#sk-container-id-7 label.sk-toggleable__label-arrow:before {content: \"▸\";float: left;margin-right: 0.25em;color: #696969;}#sk-container-id-7 label.sk-toggleable__label-arrow:hover:before {color: black;}#sk-container-id-7 div.sk-estimator:hover label.sk-toggleable__label-arrow:before {color: black;}#sk-container-id-7 div.sk-toggleable__content {max-height: 0;max-width: 0;overflow: hidden;text-align: left;background-color: #f0f8ff;}#sk-container-id-7 div.sk-toggleable__content pre {margin: 0.2em;color: black;border-radius: 0.25em;background-color: #f0f8ff;}#sk-container-id-7 input.sk-toggleable__control:checked~div.sk-toggleable__content {max-height: 200px;max-width: 100%;overflow: auto;}#sk-container-id-7 input.sk-toggleable__control:checked~label.sk-toggleable__label-arrow:before {content: \"▾\";}#sk-container-id-7 div.sk-estimator input.sk-toggleable__control:checked~label.sk-toggleable__label {background-color: #d4ebff;}#sk-container-id-7 div.sk-label input.sk-toggleable__control:checked~label.sk-toggleable__label {background-color: #d4ebff;}#sk-container-id-7 input.sk-hidden--visually {border: 0;clip: rect(1px 1px 1px 1px);clip: rect(1px, 1px, 1px, 1px);height: 1px;margin: -1px;overflow: hidden;padding: 0;position: absolute;width: 1px;}#sk-container-id-7 div.sk-estimator {font-family: monospace;background-color: #f0f8ff;border: 1px dotted black;border-radius: 0.25em;box-sizing: border-box;margin-bottom: 0.5em;}#sk-container-id-7 div.sk-estimator:hover {background-color: #d4ebff;}#sk-container-id-7 div.sk-parallel-item::after {content: \"\";width: 100%;border-bottom: 1px solid gray;flex-grow: 1;}#sk-container-id-7 div.sk-label:hover label.sk-toggleable__label {background-color: #d4ebff;}#sk-container-id-7 div.sk-serial::before {content: \"\";position: absolute;border-left: 1px solid gray;box-sizing: border-box;top: 0;bottom: 0;left: 50%;z-index: 0;}#sk-container-id-7 div.sk-serial {display: flex;flex-direction: column;align-items: center;background-color: white;padding-right: 0.2em;padding-left: 0.2em;position: relative;}#sk-container-id-7 div.sk-item {position: relative;z-index: 1;}#sk-container-id-7 div.sk-parallel {display: flex;align-items: stretch;justify-content: center;background-color: white;position: relative;}#sk-container-id-7 div.sk-item::before, #sk-container-id-7 div.sk-parallel-item::before {content: \"\";position: absolute;border-left: 1px solid gray;box-sizing: border-box;top: 0;bottom: 0;left: 50%;z-index: -1;}#sk-container-id-7 div.sk-parallel-item {display: flex;flex-direction: column;z-index: 1;position: relative;background-color: white;}#sk-container-id-7 div.sk-parallel-item:first-child::after {align-self: flex-end;width: 50%;}#sk-container-id-7 div.sk-parallel-item:last-child::after {align-self: flex-start;width: 50%;}#sk-container-id-7 div.sk-parallel-item:only-child::after {width: 0;}#sk-container-id-7 div.sk-dashed-wrapped {border: 1px dashed gray;margin: 0 0.4em 0.5em 0.4em;box-sizing: border-box;padding-bottom: 0.4em;background-color: white;}#sk-container-id-7 div.sk-label label {font-family: monospace;font-weight: bold;display: inline-block;line-height: 1.2em;}#sk-container-id-7 div.sk-label-container {text-align: center;}#sk-container-id-7 div.sk-container {/* jupyter's `normalize.less` sets `[hidden] { display: none; }` but bootstrap.min.css set `[hidden] { display: none !important; }` so we also need the `!important` here to be able to override the default hidden behavior on the sphinx rendered scikit-learn.org. See: https://github.com/scikit-learn/scikit-learn/issues/21755 */display: inline-block !important;position: relative;}#sk-container-id-7 div.sk-text-repr-fallback {display: none;}</style><div id=\"sk-container-id-7\" class=\"sk-top-container\"><div class=\"sk-text-repr-fallback\"><pre>HistGradientBoostingClassifier(categorical_features=[&#x27;is_paperless_billing&#x27;,\n",
       "                                                     &#x27;customer_gender&#x27;,\n",
       "                                                     &#x27;is_customer_senior&#x27;,\n",
       "                                                     &#x27;has_partner&#x27;,\n",
       "                                                     &#x27;has_dependents&#x27;,\n",
       "                                                     &#x27;has_multiple_lines_phone&#x27;,\n",
       "                                                     &#x27;internet_type&#x27;,\n",
       "                                                     &#x27;has_online_security&#x27;,\n",
       "                                                     &#x27;has_online_backup&#x27;,\n",
       "                                                     &#x27;has_device_protection&#x27;,\n",
       "                                                     &#x27;has_tech_support&#x27;,\n",
       "                                                     &#x27;has_streaming_tv&#x27;,\n",
       "                                                     &#x27;has_streaming_movies&#x27;,\n",
       "                                                     &#x27;has_phone_service&#x27;,\n",
       "                                                     &#x27;has_internet_service&#x27;,\n",
       "                                                     &#x27;is_one_year_contract&#x27;,\n",
       "                                                     &#x27;is_two_year_contract&#x27;,\n",
       "                                                     &#x27;is_bank_payment&#x27;,\n",
       "                                                     &#x27;is_card_payment&#x27;,\n",
       "                                                     &#x27;is_echeck_payment&#x27;],\n",
       "                               max_depth=7, random_state=20230311)</pre><b>In a Jupyter environment, please rerun this cell to show the HTML representation or trust the notebook. <br />On GitHub, the HTML representation is unable to render, please try loading this page with nbviewer.org.</b></div><div class=\"sk-container\" hidden><div class=\"sk-item\"><div class=\"sk-estimator sk-toggleable\"><input class=\"sk-toggleable__control sk-hidden--visually\" id=\"sk-estimator-id-7\" type=\"checkbox\" checked><label for=\"sk-estimator-id-7\" class=\"sk-toggleable__label sk-toggleable__label-arrow\">HistGradientBoostingClassifier</label><div class=\"sk-toggleable__content\"><pre>HistGradientBoostingClassifier(categorical_features=[&#x27;is_paperless_billing&#x27;,\n",
       "                                                     &#x27;customer_gender&#x27;,\n",
       "                                                     &#x27;is_customer_senior&#x27;,\n",
       "                                                     &#x27;has_partner&#x27;,\n",
       "                                                     &#x27;has_dependents&#x27;,\n",
       "                                                     &#x27;has_multiple_lines_phone&#x27;,\n",
       "                                                     &#x27;internet_type&#x27;,\n",
       "                                                     &#x27;has_online_security&#x27;,\n",
       "                                                     &#x27;has_online_backup&#x27;,\n",
       "                                                     &#x27;has_device_protection&#x27;,\n",
       "                                                     &#x27;has_tech_support&#x27;,\n",
       "                                                     &#x27;has_streaming_tv&#x27;,\n",
       "                                                     &#x27;has_streaming_movies&#x27;,\n",
       "                                                     &#x27;has_phone_service&#x27;,\n",
       "                                                     &#x27;has_internet_service&#x27;,\n",
       "                                                     &#x27;is_one_year_contract&#x27;,\n",
       "                                                     &#x27;is_two_year_contract&#x27;,\n",
       "                                                     &#x27;is_bank_payment&#x27;,\n",
       "                                                     &#x27;is_card_payment&#x27;,\n",
       "                                                     &#x27;is_echeck_payment&#x27;],\n",
       "                               max_depth=7, random_state=20230311)</pre></div></div></div></div></div>"
      ],
      "text/plain": [
       "HistGradientBoostingClassifier(categorical_features=['is_paperless_billing',\n",
       "                                                     'customer_gender',\n",
       "                                                     'is_customer_senior',\n",
       "                                                     'has_partner',\n",
       "                                                     'has_dependents',\n",
       "                                                     'has_multiple_lines_phone',\n",
       "                                                     'internet_type',\n",
       "                                                     'has_online_security',\n",
       "                                                     'has_online_backup',\n",
       "                                                     'has_device_protection',\n",
       "                                                     'has_tech_support',\n",
       "                                                     'has_streaming_tv',\n",
       "                                                     'has_streaming_movies',\n",
       "                                                     'has_phone_service',\n",
       "                                                     'has_internet_service',\n",
       "                                                     'is_one_year_contract',\n",
       "                                                     'is_two_year_contract',\n",
       "                                                     'is_bank_payment',\n",
       "                                                     'is_card_payment',\n",
       "                                                     'is_echeck_payment'],\n",
       "                               max_depth=7, random_state=20230311)"
      ]
     },
     "execution_count": 65,
     "metadata": {},
     "output_type": "execute_result"
    }
   ],
   "source": [
    "hist_clf.fit(X_train, y_train)"
   ]
  },
  {
   "cell_type": "code",
   "execution_count": 66,
   "id": "b6d19011",
   "metadata": {},
   "outputs": [],
   "source": [
    "proba = hist_clf.predict_proba(X_valid)"
   ]
  },
  {
   "cell_type": "code",
   "execution_count": 76,
   "id": "439e6bb0",
   "metadata": {},
   "outputs": [
    {
     "name": "stdout",
     "output_type": "stream",
     "text": [
      "ROC AUC:   0.8326\n",
      "Accuracy:  0.7800\n"
     ]
    }
   ],
   "source": [
    "print(\n",
    "f\"ROC AUC:   {roc_auc_score(y_valid, proba[:, 1]):.4f}\\n\"\\\n",
    "f\"Accuracy: {hist_clf.score(X_valid, y_valid): .4f}\")"
   ]
  },
  {
   "cell_type": "markdown",
   "id": "73f31d89",
   "metadata": {},
   "source": [
    "### Нейронная сеть"
   ]
  },
  {
   "cell_type": "code",
   "execution_count": null,
   "id": "0282f5c7",
   "metadata": {},
   "outputs": [],
   "source": []
  },
  {
   "cell_type": "markdown",
   "id": "848d565b",
   "metadata": {},
   "source": [
    "## Тестирование модели"
   ]
  },
  {
   "cell_type": "markdown",
   "id": "397dd910",
   "metadata": {},
   "source": [
    "1. Проведите графический анализ «Матрица ошибок». Выведите полноту и точность на график.\n",
    "1. Проанализируйте важность основных факторов, влияющих на отток клиента.\n",
    "1. Для одного из выявленных важных факторов проведите дополнительное исследование:\n",
    "    - Покажите график зависимости фактора и целевой переменной."
   ]
  },
  {
   "cell_type": "code",
   "execution_count": null,
   "id": "c4d0f2a8",
   "metadata": {},
   "outputs": [],
   "source": []
  },
  {
   "cell_type": "markdown",
   "id": "fcf0b57a",
   "metadata": {},
   "source": [
    "## Вывод"
   ]
  },
  {
   "cell_type": "markdown",
   "id": "0623ad73",
   "metadata": {},
   "source": [
    "рекомендации оператору связи"
   ]
  },
  {
   "cell_type": "code",
   "execution_count": null,
   "id": "327639ba",
   "metadata": {},
   "outputs": [],
   "source": []
  }
 ],
 "metadata": {
  "kernelspec": {
   "display_name": "Python 3 (ipykernel)",
   "language": "python",
   "name": "python3"
  },
  "language_info": {
   "codemirror_mode": {
    "name": "ipython",
    "version": 3
   },
   "file_extension": ".py",
   "mimetype": "text/x-python",
   "name": "python",
   "nbconvert_exporter": "python",
   "pygments_lexer": "ipython3",
   "version": "3.9.6"
  },
  "toc": {
   "base_numbering": 1,
   "nav_menu": {},
   "number_sections": true,
   "sideBar": true,
   "skip_h1_title": true,
   "title_cell": "Table of Contents",
   "title_sidebar": "Contents",
   "toc_cell": false,
   "toc_position": {
    "height": "calc(100% - 180px)",
    "left": "10px",
    "top": "150px",
    "width": "324.59375px"
   },
   "toc_section_display": true,
   "toc_window_display": true
  }
 },
 "nbformat": 4,
 "nbformat_minor": 5
}
